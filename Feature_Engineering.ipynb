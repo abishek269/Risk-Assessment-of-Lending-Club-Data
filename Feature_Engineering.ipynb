{
 "cells": [
  {
   "cell_type": "markdown",
   "metadata": {},
   "source": [
    "### Lets do some feature Engineering that includes create dummy variabble on categorical data and scaling on numerical data"
   ]
  },
  {
   "cell_type": "code",
   "execution_count": 116,
   "metadata": {},
   "outputs": [],
   "source": [
    "import pandas as pd\n",
    "import numpy as np\n",
    "import matplotlib.pyplot as plt\n",
    "import seaborn as sns\n",
    "from sklearn.preprocessing import MinMaxScaler"
   ]
  },
  {
   "cell_type": "code",
   "execution_count": 117,
   "metadata": {},
   "outputs": [],
   "source": [
    "df = pd.read_csv(\"LendingClub_cleaned.csv\")"
   ]
  },
  {
   "cell_type": "code",
   "execution_count": 118,
   "metadata": {},
   "outputs": [
    {
     "data": {
      "text/plain": [
       "(1852324, 88)"
      ]
     },
     "execution_count": 118,
     "metadata": {},
     "output_type": "execute_result"
    }
   ],
   "source": [
    "df.shape"
   ]
  },
  {
   "cell_type": "code",
   "execution_count": 119,
   "metadata": {},
   "outputs": [],
   "source": [
    "#df.info()"
   ]
  },
  {
   "cell_type": "markdown",
   "metadata": {},
   "source": [
    "### Select loan_status with values \"Fully Paid\", \"Charged Off\" and \"Default\""
   ]
  },
  {
   "cell_type": "code",
   "execution_count": 120,
   "metadata": {},
   "outputs": [],
   "source": [
    "df1 = df[(df[\"loan_status\"] == \"Fully Paid\") | (df[\"loan_status\"] == \"Charged Off\") | (df[\"loan_status\"] == \"Default\")]"
   ]
  },
  {
   "cell_type": "code",
   "execution_count": 121,
   "metadata": {},
   "outputs": [
    {
     "data": {
      "text/plain": [
       "Fully Paid     880570\n",
       "Charged Off    210041\n",
       "Default            30\n",
       "Name: loan_status, dtype: int64"
      ]
     },
     "execution_count": 121,
     "metadata": {},
     "output_type": "execute_result"
    }
   ],
   "source": [
    "df1[\"loan_status\"].value_counts()"
   ]
  },
  {
   "cell_type": "code",
   "execution_count": 122,
   "metadata": {},
   "outputs": [],
   "source": [
    "#df1[\"loan_status\"]"
   ]
  },
  {
   "cell_type": "markdown",
   "metadata": {},
   "source": [
    "### Convert to binary values:"
   ]
  },
  {
   "cell_type": "code",
   "execution_count": 123,
   "metadata": {},
   "outputs": [
    {
     "name": "stderr",
     "output_type": "stream",
     "text": [
      "<ipython-input-123-0a669ac3ba9e>:1: SettingWithCopyWarning: \n",
      "A value is trying to be set on a copy of a slice from a DataFrame.\n",
      "Try using .loc[row_indexer,col_indexer] = value instead\n",
      "\n",
      "See the caveats in the documentation: https://pandas.pydata.org/pandas-docs/stable/user_guide/indexing.html#returning-a-view-versus-a-copy\n",
      "  df1[\"loan_status\"] = df1['loan_status'].replace({'Fully Paid':0,'Default':1,'Charged Off':1})\n"
     ]
    }
   ],
   "source": [
    "df1[\"loan_status\"] = df1['loan_status'].replace({'Fully Paid':0,'Default':1,'Charged Off':1})"
   ]
  },
  {
   "cell_type": "code",
   "execution_count": 124,
   "metadata": {},
   "outputs": [
    {
     "data": {
      "text/plain": [
       "0          0\n",
       "1          0\n",
       "3          0\n",
       "4          0\n",
       "5          0\n",
       "          ..\n",
       "1852315    0\n",
       "1852318    0\n",
       "1852319    1\n",
       "1852320    0\n",
       "1852323    1\n",
       "Name: loan_status, Length: 1090641, dtype: int64"
      ]
     },
     "execution_count": 124,
     "metadata": {},
     "output_type": "execute_result"
    }
   ],
   "source": [
    "df1[\"loan_status\"]"
   ]
  },
  {
   "cell_type": "code",
   "execution_count": 125,
   "metadata": {},
   "outputs": [
    {
     "data": {
      "text/plain": [
       "array([0, 1], dtype=int64)"
      ]
     },
     "execution_count": 125,
     "metadata": {},
     "output_type": "execute_result"
    }
   ],
   "source": [
    "df1.loan_status.unique()"
   ]
  },
  {
   "cell_type": "code",
   "execution_count": 126,
   "metadata": {},
   "outputs": [
    {
     "data": {
      "text/plain": [
       "pandas.core.series.Series"
      ]
     },
     "execution_count": 126,
     "metadata": {},
     "output_type": "execute_result"
    }
   ],
   "source": [
    "type(df1.term)"
   ]
  },
  {
   "cell_type": "code",
   "execution_count": 127,
   "metadata": {},
   "outputs": [
    {
     "name": "stderr",
     "output_type": "stream",
     "text": [
      "C:\\Users\\abishek\\anaconda3\\lib\\site-packages\\pandas\\core\\generic.py:5168: SettingWithCopyWarning: \n",
      "A value is trying to be set on a copy of a slice from a DataFrame.\n",
      "Try using .loc[row_indexer,col_indexer] = value instead\n",
      "\n",
      "See the caveats in the documentation: https://pandas.pydata.org/pandas-docs/stable/user_guide/indexing.html#returning-a-view-versus-a-copy\n",
      "  self[name] = value\n"
     ]
    }
   ],
   "source": [
    "df1.term = pd.to_numeric(df1.term.str.strip('months'))"
   ]
  },
  {
   "cell_type": "code",
   "execution_count": 128,
   "metadata": {},
   "outputs": [
    {
     "data": {
      "text/plain": [
       "0          10+ years\n",
       "1          10+ years\n",
       "3            3 years\n",
       "4            4 years\n",
       "5          10+ years\n",
       "             ...    \n",
       "1852315    10+ years\n",
       "1852318      9 years\n",
       "1852319      3 years\n",
       "1852320    10+ years\n",
       "1852323      6 years\n",
       "Name: emp_length, Length: 1090641, dtype: object"
      ]
     },
     "execution_count": 128,
     "metadata": {},
     "output_type": "execute_result"
    }
   ],
   "source": [
    "df1.emp_length"
   ]
  },
  {
   "cell_type": "code",
   "execution_count": 129,
   "metadata": {},
   "outputs": [],
   "source": [
    "df1.emp_length = df1.emp_length.str.replace('+', '')\n",
    "df1.emp_length = df1.emp_length.str.replace('<', '')\n",
    "df1.emp_length = df1.emp_length.str.replace('years', '')\n",
    "df1.emp_length = df1.emp_length.str.replace('year', '')"
   ]
  },
  {
   "cell_type": "code",
   "execution_count": 130,
   "metadata": {},
   "outputs": [],
   "source": [
    "df1.emp_length = pd.to_numeric(df1.emp_length)"
   ]
  },
  {
   "cell_type": "code",
   "execution_count": 131,
   "metadata": {},
   "outputs": [
    {
     "data": {
      "text/plain": [
       "array([10,  3,  4,  6,  7,  8,  2,  5,  9,  1], dtype=int64)"
      ]
     },
     "execution_count": 131,
     "metadata": {},
     "output_type": "execute_result"
    }
   ],
   "source": [
    "df1.emp_length.unique()"
   ]
  },
  {
   "cell_type": "code",
   "execution_count": 132,
   "metadata": {},
   "outputs": [],
   "source": [
    "dfo = df1.select_dtypes(include = \"object\")"
   ]
  },
  {
   "cell_type": "code",
   "execution_count": 133,
   "metadata": {},
   "outputs": [
    {
     "data": {
      "text/html": [
       "<div>\n",
       "<style scoped>\n",
       "    .dataframe tbody tr th:only-of-type {\n",
       "        vertical-align: middle;\n",
       "    }\n",
       "\n",
       "    .dataframe tbody tr th {\n",
       "        vertical-align: top;\n",
       "    }\n",
       "\n",
       "    .dataframe thead th {\n",
       "        text-align: right;\n",
       "    }\n",
       "</style>\n",
       "<table border=\"1\" class=\"dataframe\">\n",
       "  <thead>\n",
       "    <tr style=\"text-align: right;\">\n",
       "      <th></th>\n",
       "      <th>grade</th>\n",
       "      <th>sub_grade</th>\n",
       "      <th>home_ownership</th>\n",
       "      <th>verification_status</th>\n",
       "      <th>issue_d</th>\n",
       "      <th>pymnt_plan</th>\n",
       "      <th>purpose</th>\n",
       "      <th>title</th>\n",
       "      <th>addr_state</th>\n",
       "      <th>earliest_cr_line</th>\n",
       "      <th>initial_list_status</th>\n",
       "      <th>last_pymnt_d</th>\n",
       "      <th>last_credit_pull_d</th>\n",
       "      <th>application_type</th>\n",
       "      <th>hardship_flag</th>\n",
       "      <th>disbursement_method</th>\n",
       "      <th>debt_settlement_flag</th>\n",
       "    </tr>\n",
       "  </thead>\n",
       "  <tbody>\n",
       "    <tr>\n",
       "      <th>0</th>\n",
       "      <td>C</td>\n",
       "      <td>C4</td>\n",
       "      <td>MORTGAGE</td>\n",
       "      <td>Not Verified</td>\n",
       "      <td>Dec-2015</td>\n",
       "      <td>n</td>\n",
       "      <td>debt_consolidation</td>\n",
       "      <td>Debt consolidation</td>\n",
       "      <td>PA</td>\n",
       "      <td>Aug-2003</td>\n",
       "      <td>w</td>\n",
       "      <td>Jan-2019</td>\n",
       "      <td>Mar-2019</td>\n",
       "      <td>Individual</td>\n",
       "      <td>N</td>\n",
       "      <td>Cash</td>\n",
       "      <td>N</td>\n",
       "    </tr>\n",
       "    <tr>\n",
       "      <th>1</th>\n",
       "      <td>C</td>\n",
       "      <td>C1</td>\n",
       "      <td>MORTGAGE</td>\n",
       "      <td>Not Verified</td>\n",
       "      <td>Dec-2015</td>\n",
       "      <td>n</td>\n",
       "      <td>small_business</td>\n",
       "      <td>Business</td>\n",
       "      <td>SD</td>\n",
       "      <td>Dec-1999</td>\n",
       "      <td>w</td>\n",
       "      <td>Jun-2016</td>\n",
       "      <td>Mar-2019</td>\n",
       "      <td>Individual</td>\n",
       "      <td>N</td>\n",
       "      <td>Cash</td>\n",
       "      <td>N</td>\n",
       "    </tr>\n",
       "    <tr>\n",
       "      <th>3</th>\n",
       "      <td>F</td>\n",
       "      <td>F1</td>\n",
       "      <td>MORTGAGE</td>\n",
       "      <td>Source Verified</td>\n",
       "      <td>Dec-2015</td>\n",
       "      <td>n</td>\n",
       "      <td>major_purchase</td>\n",
       "      <td>Major purchase</td>\n",
       "      <td>PA</td>\n",
       "      <td>Jun-1998</td>\n",
       "      <td>w</td>\n",
       "      <td>Jul-2016</td>\n",
       "      <td>Mar-2018</td>\n",
       "      <td>Individual</td>\n",
       "      <td>N</td>\n",
       "      <td>Cash</td>\n",
       "      <td>N</td>\n",
       "    </tr>\n",
       "    <tr>\n",
       "      <th>4</th>\n",
       "      <td>C</td>\n",
       "      <td>C3</td>\n",
       "      <td>RENT</td>\n",
       "      <td>Source Verified</td>\n",
       "      <td>Dec-2015</td>\n",
       "      <td>n</td>\n",
       "      <td>debt_consolidation</td>\n",
       "      <td>Debt consolidation</td>\n",
       "      <td>GA</td>\n",
       "      <td>Oct-1987</td>\n",
       "      <td>w</td>\n",
       "      <td>May-2017</td>\n",
       "      <td>May-2017</td>\n",
       "      <td>Individual</td>\n",
       "      <td>N</td>\n",
       "      <td>Cash</td>\n",
       "      <td>N</td>\n",
       "    </tr>\n",
       "    <tr>\n",
       "      <th>5</th>\n",
       "      <td>B</td>\n",
       "      <td>B2</td>\n",
       "      <td>MORTGAGE</td>\n",
       "      <td>Not Verified</td>\n",
       "      <td>Dec-2015</td>\n",
       "      <td>n</td>\n",
       "      <td>debt_consolidation</td>\n",
       "      <td>Debt consolidation</td>\n",
       "      <td>MN</td>\n",
       "      <td>Jun-1990</td>\n",
       "      <td>f</td>\n",
       "      <td>Nov-2016</td>\n",
       "      <td>Mar-2019</td>\n",
       "      <td>Individual</td>\n",
       "      <td>N</td>\n",
       "      <td>Cash</td>\n",
       "      <td>N</td>\n",
       "    </tr>\n",
       "  </tbody>\n",
       "</table>\n",
       "</div>"
      ],
      "text/plain": [
       "  grade sub_grade home_ownership verification_status   issue_d pymnt_plan  \\\n",
       "0     C        C4       MORTGAGE        Not Verified  Dec-2015          n   \n",
       "1     C        C1       MORTGAGE        Not Verified  Dec-2015          n   \n",
       "3     F        F1       MORTGAGE     Source Verified  Dec-2015          n   \n",
       "4     C        C3           RENT     Source Verified  Dec-2015          n   \n",
       "5     B        B2       MORTGAGE        Not Verified  Dec-2015          n   \n",
       "\n",
       "              purpose               title addr_state earliest_cr_line  \\\n",
       "0  debt_consolidation  Debt consolidation         PA         Aug-2003   \n",
       "1      small_business            Business         SD         Dec-1999   \n",
       "3      major_purchase      Major purchase         PA         Jun-1998   \n",
       "4  debt_consolidation  Debt consolidation         GA         Oct-1987   \n",
       "5  debt_consolidation  Debt consolidation         MN         Jun-1990   \n",
       "\n",
       "  initial_list_status last_pymnt_d last_credit_pull_d application_type  \\\n",
       "0                   w     Jan-2019           Mar-2019       Individual   \n",
       "1                   w     Jun-2016           Mar-2019       Individual   \n",
       "3                   w     Jul-2016           Mar-2018       Individual   \n",
       "4                   w     May-2017           May-2017       Individual   \n",
       "5                   f     Nov-2016           Mar-2019       Individual   \n",
       "\n",
       "  hardship_flag disbursement_method debt_settlement_flag  \n",
       "0             N                Cash                    N  \n",
       "1             N                Cash                    N  \n",
       "3             N                Cash                    N  \n",
       "4             N                Cash                    N  \n",
       "5             N                Cash                    N  "
      ]
     },
     "execution_count": 133,
     "metadata": {},
     "output_type": "execute_result"
    }
   ],
   "source": [
    "dfo.head()"
   ]
  },
  {
   "cell_type": "code",
   "execution_count": 134,
   "metadata": {},
   "outputs": [
    {
     "data": {
      "text/plain": [
       "Index(['loan_amnt', 'funded_amnt', 'funded_amnt_inv', 'term', 'int_rate',\n",
       "       'installment', 'grade', 'sub_grade', 'emp_length', 'home_ownership',\n",
       "       'annual_inc', 'verification_status', 'issue_d', 'loan_status',\n",
       "       'pymnt_plan', 'purpose', 'title', 'addr_state', 'dti', 'delinq_2yrs',\n",
       "       'earliest_cr_line', 'fico_range_low', 'fico_range_high',\n",
       "       'inq_last_6mths', 'open_acc', 'pub_rec', 'revol_bal', 'revol_util',\n",
       "       'total_acc', 'initial_list_status', 'out_prncp', 'out_prncp_inv',\n",
       "       'total_pymnt', 'total_pymnt_inv', 'total_rec_prncp', 'total_rec_int',\n",
       "       'total_rec_late_fee', 'recoveries', 'collection_recovery_fee',\n",
       "       'last_pymnt_d', 'last_pymnt_amnt', 'last_credit_pull_d',\n",
       "       'last_fico_range_high', 'last_fico_range_low',\n",
       "       'collections_12_mths_ex_med', 'policy_code', 'application_type',\n",
       "       'acc_now_delinq', 'tot_coll_amt', 'tot_cur_bal', 'total_rev_hi_lim',\n",
       "       'acc_open_past_24mths', 'avg_cur_bal', 'bc_open_to_buy', 'bc_util',\n",
       "       'chargeoff_within_12_mths', 'delinq_amnt', 'mo_sin_old_il_acct',\n",
       "       'mo_sin_old_rev_tl_op', 'mo_sin_rcnt_rev_tl_op', 'mo_sin_rcnt_tl',\n",
       "       'mort_acc', 'mths_since_recent_bc', 'num_accts_ever_120_pd',\n",
       "       'num_actv_bc_tl', 'num_actv_rev_tl', 'num_bc_sats', 'num_bc_tl',\n",
       "       'num_il_tl', 'num_op_rev_tl', 'num_rev_accts', 'num_rev_tl_bal_gt_0',\n",
       "       'num_sats', 'num_tl_120dpd_2m', 'num_tl_30dpd', 'num_tl_90g_dpd_24m',\n",
       "       'num_tl_op_past_12m', 'pct_tl_nvr_dlq', 'percent_bc_gt_75',\n",
       "       'pub_rec_bankruptcies', 'tax_liens', 'tot_hi_cred_lim',\n",
       "       'total_bal_ex_mort', 'total_bc_limit', 'total_il_high_credit_limit',\n",
       "       'hardship_flag', 'disbursement_method', 'debt_settlement_flag'],\n",
       "      dtype='object')"
      ]
     },
     "execution_count": 134,
     "metadata": {},
     "output_type": "execute_result"
    }
   ],
   "source": [
    "df1.columns"
   ]
  },
  {
   "cell_type": "code",
   "execution_count": 135,
   "metadata": {},
   "outputs": [
    {
     "data": {
      "text/plain": [
       "array(['MORTGAGE', 'RENT', 'OWN', 'ANY', 'NONE', 'OTHER'], dtype=object)"
      ]
     },
     "execution_count": 135,
     "metadata": {},
     "output_type": "execute_result"
    }
   ],
   "source": [
    "dfo.home_ownership.unique()"
   ]
  },
  {
   "cell_type": "code",
   "execution_count": 136,
   "metadata": {},
   "outputs": [
    {
     "data": {
      "text/plain": [
       "array([ 0.,  1.,  2.,  3.,  4.,  5.,  6., 14., 16., 20., 10.])"
      ]
     },
     "execution_count": 136,
     "metadata": {},
     "output_type": "execute_result"
    }
   ],
   "source": [
    "df1.collections_12_mths_ex_med.unique()"
   ]
  },
  {
   "cell_type": "markdown",
   "metadata": {},
   "source": [
    "### Let's decide to drop some of the categorical features that may not be useful for our purposes:"
   ]
  },
  {
   "cell_type": "code",
   "execution_count": 173,
   "metadata": {},
   "outputs": [],
   "source": [
    "drop_list = [\"pymnt_plan\",\"sub_grade\", \"issue_d\", \"title\", \"addr_state\", \"earliest_cr_line\", \"last_pymnt_d\", \"initial_list_status\", \\\n",
    "            \"last_credit_pull_d\", \"disbursement_method\", \"debt_settlement_flag\", \"verification_status\", \"hardship_flag\", \\\n",
    "             \"loan_amnt\", \"funded_amnt_inv\", \"fico_range_high\", \"fico_range_low\", \"pub_rec\", \"inq_last_6mths\", \"recoveries\", \\\n",
    "            \"collection_recovery_fee\", \"last_fico_range_high\", \"last_fico_range_low\", \"collections_12_mths_ex_med\", \"policy_code\", \\\n",
    "            \"mo_sin_old_il_acct\", \"total_rec_prncp\", \"last_pymnt_amnt\", \"total_pymnt\", \"out_prncp_inv\", \"out_prncp\", \\\n",
    "             \"total_rec_prncp\", \"int_rate\", \"chargeoff_within_12_mths\", \"acc_now_delinq\", \"earliest_cr_line\", \"total_pymnt_inv\", \\\n",
    "            \"total_rec_int\", \"total_rec_late_fee\"]             "
   ]
  },
  {
   "cell_type": "code",
   "execution_count": 174,
   "metadata": {},
   "outputs": [],
   "source": [
    "df2 = df1.drop(drop_list, axis = 1)"
   ]
  },
  {
   "cell_type": "code",
   "execution_count": 175,
   "metadata": {},
   "outputs": [
    {
     "data": {
      "text/html": [
       "<div>\n",
       "<style scoped>\n",
       "    .dataframe tbody tr th:only-of-type {\n",
       "        vertical-align: middle;\n",
       "    }\n",
       "\n",
       "    .dataframe tbody tr th {\n",
       "        vertical-align: top;\n",
       "    }\n",
       "\n",
       "    .dataframe thead th {\n",
       "        text-align: right;\n",
       "    }\n",
       "</style>\n",
       "<table border=\"1\" class=\"dataframe\">\n",
       "  <thead>\n",
       "    <tr style=\"text-align: right;\">\n",
       "      <th></th>\n",
       "      <th>funded_amnt</th>\n",
       "      <th>term</th>\n",
       "      <th>installment</th>\n",
       "      <th>grade</th>\n",
       "      <th>emp_length</th>\n",
       "      <th>home_ownership</th>\n",
       "      <th>annual_inc</th>\n",
       "      <th>loan_status</th>\n",
       "      <th>purpose</th>\n",
       "      <th>dti</th>\n",
       "      <th>...</th>\n",
       "      <th>num_tl_90g_dpd_24m</th>\n",
       "      <th>num_tl_op_past_12m</th>\n",
       "      <th>pct_tl_nvr_dlq</th>\n",
       "      <th>percent_bc_gt_75</th>\n",
       "      <th>pub_rec_bankruptcies</th>\n",
       "      <th>tax_liens</th>\n",
       "      <th>tot_hi_cred_lim</th>\n",
       "      <th>total_bal_ex_mort</th>\n",
       "      <th>total_bc_limit</th>\n",
       "      <th>total_il_high_credit_limit</th>\n",
       "    </tr>\n",
       "  </thead>\n",
       "  <tbody>\n",
       "    <tr>\n",
       "      <th>0</th>\n",
       "      <td>3600.0</td>\n",
       "      <td>36</td>\n",
       "      <td>123.03</td>\n",
       "      <td>C</td>\n",
       "      <td>10</td>\n",
       "      <td>MORTGAGE</td>\n",
       "      <td>55000.0</td>\n",
       "      <td>0</td>\n",
       "      <td>debt_consolidation</td>\n",
       "      <td>5.91</td>\n",
       "      <td>...</td>\n",
       "      <td>0.0</td>\n",
       "      <td>3.0</td>\n",
       "      <td>76.9</td>\n",
       "      <td>0.0</td>\n",
       "      <td>0.0</td>\n",
       "      <td>0.0</td>\n",
       "      <td>178050.0</td>\n",
       "      <td>7746.0</td>\n",
       "      <td>2400.0</td>\n",
       "      <td>13734.0</td>\n",
       "    </tr>\n",
       "    <tr>\n",
       "      <th>1</th>\n",
       "      <td>24700.0</td>\n",
       "      <td>36</td>\n",
       "      <td>820.28</td>\n",
       "      <td>C</td>\n",
       "      <td>10</td>\n",
       "      <td>MORTGAGE</td>\n",
       "      <td>65000.0</td>\n",
       "      <td>0</td>\n",
       "      <td>small_business</td>\n",
       "      <td>16.06</td>\n",
       "      <td>...</td>\n",
       "      <td>0.0</td>\n",
       "      <td>2.0</td>\n",
       "      <td>97.4</td>\n",
       "      <td>7.7</td>\n",
       "      <td>0.0</td>\n",
       "      <td>0.0</td>\n",
       "      <td>314017.0</td>\n",
       "      <td>39475.0</td>\n",
       "      <td>79300.0</td>\n",
       "      <td>24667.0</td>\n",
       "    </tr>\n",
       "    <tr>\n",
       "      <th>3</th>\n",
       "      <td>10400.0</td>\n",
       "      <td>60</td>\n",
       "      <td>289.91</td>\n",
       "      <td>F</td>\n",
       "      <td>3</td>\n",
       "      <td>MORTGAGE</td>\n",
       "      <td>104433.0</td>\n",
       "      <td>0</td>\n",
       "      <td>major_purchase</td>\n",
       "      <td>25.37</td>\n",
       "      <td>...</td>\n",
       "      <td>0.0</td>\n",
       "      <td>4.0</td>\n",
       "      <td>96.6</td>\n",
       "      <td>60.0</td>\n",
       "      <td>0.0</td>\n",
       "      <td>0.0</td>\n",
       "      <td>439570.0</td>\n",
       "      <td>95768.0</td>\n",
       "      <td>20300.0</td>\n",
       "      <td>88097.0</td>\n",
       "    </tr>\n",
       "    <tr>\n",
       "      <th>4</th>\n",
       "      <td>11950.0</td>\n",
       "      <td>36</td>\n",
       "      <td>405.18</td>\n",
       "      <td>C</td>\n",
       "      <td>4</td>\n",
       "      <td>RENT</td>\n",
       "      <td>34000.0</td>\n",
       "      <td>0</td>\n",
       "      <td>debt_consolidation</td>\n",
       "      <td>10.20</td>\n",
       "      <td>...</td>\n",
       "      <td>0.0</td>\n",
       "      <td>0.0</td>\n",
       "      <td>100.0</td>\n",
       "      <td>100.0</td>\n",
       "      <td>0.0</td>\n",
       "      <td>0.0</td>\n",
       "      <td>16900.0</td>\n",
       "      <td>12798.0</td>\n",
       "      <td>9400.0</td>\n",
       "      <td>4000.0</td>\n",
       "    </tr>\n",
       "    <tr>\n",
       "      <th>5</th>\n",
       "      <td>20000.0</td>\n",
       "      <td>36</td>\n",
       "      <td>637.58</td>\n",
       "      <td>B</td>\n",
       "      <td>10</td>\n",
       "      <td>MORTGAGE</td>\n",
       "      <td>180000.0</td>\n",
       "      <td>0</td>\n",
       "      <td>debt_consolidation</td>\n",
       "      <td>14.67</td>\n",
       "      <td>...</td>\n",
       "      <td>0.0</td>\n",
       "      <td>2.0</td>\n",
       "      <td>96.3</td>\n",
       "      <td>100.0</td>\n",
       "      <td>0.0</td>\n",
       "      <td>0.0</td>\n",
       "      <td>388852.0</td>\n",
       "      <td>116762.0</td>\n",
       "      <td>31500.0</td>\n",
       "      <td>46452.0</td>\n",
       "    </tr>\n",
       "  </tbody>\n",
       "</table>\n",
       "<p>5 rows × 51 columns</p>\n",
       "</div>"
      ],
      "text/plain": [
       "   funded_amnt  term  installment grade  emp_length home_ownership  \\\n",
       "0       3600.0    36       123.03     C          10       MORTGAGE   \n",
       "1      24700.0    36       820.28     C          10       MORTGAGE   \n",
       "3      10400.0    60       289.91     F           3       MORTGAGE   \n",
       "4      11950.0    36       405.18     C           4           RENT   \n",
       "5      20000.0    36       637.58     B          10       MORTGAGE   \n",
       "\n",
       "   annual_inc  loan_status             purpose    dti  ...  \\\n",
       "0     55000.0            0  debt_consolidation   5.91  ...   \n",
       "1     65000.0            0      small_business  16.06  ...   \n",
       "3    104433.0            0      major_purchase  25.37  ...   \n",
       "4     34000.0            0  debt_consolidation  10.20  ...   \n",
       "5    180000.0            0  debt_consolidation  14.67  ...   \n",
       "\n",
       "   num_tl_90g_dpd_24m  num_tl_op_past_12m  pct_tl_nvr_dlq  percent_bc_gt_75  \\\n",
       "0                 0.0                 3.0            76.9               0.0   \n",
       "1                 0.0                 2.0            97.4               7.7   \n",
       "3                 0.0                 4.0            96.6              60.0   \n",
       "4                 0.0                 0.0           100.0             100.0   \n",
       "5                 0.0                 2.0            96.3             100.0   \n",
       "\n",
       "   pub_rec_bankruptcies tax_liens  tot_hi_cred_lim  total_bal_ex_mort  \\\n",
       "0                   0.0       0.0         178050.0             7746.0   \n",
       "1                   0.0       0.0         314017.0            39475.0   \n",
       "3                   0.0       0.0         439570.0            95768.0   \n",
       "4                   0.0       0.0          16900.0            12798.0   \n",
       "5                   0.0       0.0         388852.0           116762.0   \n",
       "\n",
       "   total_bc_limit  total_il_high_credit_limit  \n",
       "0          2400.0                     13734.0  \n",
       "1         79300.0                     24667.0  \n",
       "3         20300.0                     88097.0  \n",
       "4          9400.0                      4000.0  \n",
       "5         31500.0                     46452.0  \n",
       "\n",
       "[5 rows x 51 columns]"
      ]
     },
     "execution_count": 175,
     "metadata": {},
     "output_type": "execute_result"
    }
   ],
   "source": [
    "df2.head()"
   ]
  },
  {
   "cell_type": "code",
   "execution_count": null,
   "metadata": {},
   "outputs": [],
   "source": []
  },
  {
   "cell_type": "code",
   "execution_count": 176,
   "metadata": {},
   "outputs": [
    {
     "data": {
      "text/html": [
       "<div>\n",
       "<style scoped>\n",
       "    .dataframe tbody tr th:only-of-type {\n",
       "        vertical-align: middle;\n",
       "    }\n",
       "\n",
       "    .dataframe tbody tr th {\n",
       "        vertical-align: top;\n",
       "    }\n",
       "\n",
       "    .dataframe thead th {\n",
       "        text-align: right;\n",
       "    }\n",
       "</style>\n",
       "<table border=\"1\" class=\"dataframe\">\n",
       "  <thead>\n",
       "    <tr style=\"text-align: right;\">\n",
       "      <th></th>\n",
       "      <th>grade</th>\n",
       "      <th>home_ownership</th>\n",
       "      <th>purpose</th>\n",
       "      <th>application_type</th>\n",
       "    </tr>\n",
       "  </thead>\n",
       "  <tbody>\n",
       "    <tr>\n",
       "      <th>0</th>\n",
       "      <td>C</td>\n",
       "      <td>MORTGAGE</td>\n",
       "      <td>debt_consolidation</td>\n",
       "      <td>Individual</td>\n",
       "    </tr>\n",
       "    <tr>\n",
       "      <th>1</th>\n",
       "      <td>C</td>\n",
       "      <td>MORTGAGE</td>\n",
       "      <td>small_business</td>\n",
       "      <td>Individual</td>\n",
       "    </tr>\n",
       "    <tr>\n",
       "      <th>3</th>\n",
       "      <td>F</td>\n",
       "      <td>MORTGAGE</td>\n",
       "      <td>major_purchase</td>\n",
       "      <td>Individual</td>\n",
       "    </tr>\n",
       "    <tr>\n",
       "      <th>4</th>\n",
       "      <td>C</td>\n",
       "      <td>RENT</td>\n",
       "      <td>debt_consolidation</td>\n",
       "      <td>Individual</td>\n",
       "    </tr>\n",
       "    <tr>\n",
       "      <th>5</th>\n",
       "      <td>B</td>\n",
       "      <td>MORTGAGE</td>\n",
       "      <td>debt_consolidation</td>\n",
       "      <td>Individual</td>\n",
       "    </tr>\n",
       "    <tr>\n",
       "      <th>...</th>\n",
       "      <td>...</td>\n",
       "      <td>...</td>\n",
       "      <td>...</td>\n",
       "      <td>...</td>\n",
       "    </tr>\n",
       "    <tr>\n",
       "      <th>1852315</th>\n",
       "      <td>C</td>\n",
       "      <td>MORTGAGE</td>\n",
       "      <td>debt_consolidation</td>\n",
       "      <td>Individual</td>\n",
       "    </tr>\n",
       "    <tr>\n",
       "      <th>1852318</th>\n",
       "      <td>C</td>\n",
       "      <td>MORTGAGE</td>\n",
       "      <td>debt_consolidation</td>\n",
       "      <td>Individual</td>\n",
       "    </tr>\n",
       "    <tr>\n",
       "      <th>1852319</th>\n",
       "      <td>C</td>\n",
       "      <td>MORTGAGE</td>\n",
       "      <td>home_improvement</td>\n",
       "      <td>Individual</td>\n",
       "    </tr>\n",
       "    <tr>\n",
       "      <th>1852320</th>\n",
       "      <td>C</td>\n",
       "      <td>RENT</td>\n",
       "      <td>medical</td>\n",
       "      <td>Individual</td>\n",
       "    </tr>\n",
       "    <tr>\n",
       "      <th>1852323</th>\n",
       "      <td>C</td>\n",
       "      <td>RENT</td>\n",
       "      <td>debt_consolidation</td>\n",
       "      <td>Individual</td>\n",
       "    </tr>\n",
       "  </tbody>\n",
       "</table>\n",
       "<p>1090641 rows × 4 columns</p>\n",
       "</div>"
      ],
      "text/plain": [
       "        grade home_ownership             purpose application_type\n",
       "0           C       MORTGAGE  debt_consolidation       Individual\n",
       "1           C       MORTGAGE      small_business       Individual\n",
       "3           F       MORTGAGE      major_purchase       Individual\n",
       "4           C           RENT  debt_consolidation       Individual\n",
       "5           B       MORTGAGE  debt_consolidation       Individual\n",
       "...       ...            ...                 ...              ...\n",
       "1852315     C       MORTGAGE  debt_consolidation       Individual\n",
       "1852318     C       MORTGAGE  debt_consolidation       Individual\n",
       "1852319     C       MORTGAGE    home_improvement       Individual\n",
       "1852320     C           RENT             medical       Individual\n",
       "1852323     C           RENT  debt_consolidation       Individual\n",
       "\n",
       "[1090641 rows x 4 columns]"
      ]
     },
     "execution_count": 176,
     "metadata": {},
     "output_type": "execute_result"
    }
   ],
   "source": [
    "df2.select_dtypes(include = \"object\")"
   ]
  },
  {
   "cell_type": "code",
   "execution_count": 177,
   "metadata": {},
   "outputs": [
    {
     "data": {
      "text/plain": [
       "Individual    1070305\n",
       "Joint App       20336\n",
       "Name: application_type, dtype: int64"
      ]
     },
     "execution_count": 177,
     "metadata": {},
     "output_type": "execute_result"
    }
   ],
   "source": [
    "df2.application_type.value_counts()"
   ]
  },
  {
   "cell_type": "markdown",
   "metadata": {},
   "source": [
    "## Let's drop \"Loan_status\" colum from dataframe and save it as a y variable"
   ]
  },
  {
   "cell_type": "code",
   "execution_count": 178,
   "metadata": {},
   "outputs": [],
   "source": [
    "y=df2[\"loan_status\"]"
   ]
  },
  {
   "cell_type": "code",
   "execution_count": 179,
   "metadata": {},
   "outputs": [],
   "source": [
    "df2.drop([\"loan_status\"],axis =1, inplace = True)"
   ]
  },
  {
   "cell_type": "code",
   "execution_count": 180,
   "metadata": {},
   "outputs": [],
   "source": [
    "from sklearn.preprocessing import StandardScaler\n",
    "scaler = StandardScaler()\n",
    "df_scaled = df2.copy()\n",
    "numeric_cols = list(df_scaled.dtypes[df_scaled.dtypes != 'object'].index)\n",
    "df_scaled.loc[:,numeric_cols] = scaler.fit_transform(df_scaled.loc[:,numeric_cols])"
   ]
  },
  {
   "cell_type": "code",
   "execution_count": 181,
   "metadata": {},
   "outputs": [
    {
     "data": {
      "text/html": [
       "<div>\n",
       "<style scoped>\n",
       "    .dataframe tbody tr th:only-of-type {\n",
       "        vertical-align: middle;\n",
       "    }\n",
       "\n",
       "    .dataframe tbody tr th {\n",
       "        vertical-align: top;\n",
       "    }\n",
       "\n",
       "    .dataframe thead th {\n",
       "        text-align: right;\n",
       "    }\n",
       "</style>\n",
       "<table border=\"1\" class=\"dataframe\">\n",
       "  <thead>\n",
       "    <tr style=\"text-align: right;\">\n",
       "      <th></th>\n",
       "      <th>funded_amnt</th>\n",
       "      <th>term</th>\n",
       "      <th>installment</th>\n",
       "      <th>grade</th>\n",
       "      <th>emp_length</th>\n",
       "      <th>home_ownership</th>\n",
       "      <th>annual_inc</th>\n",
       "      <th>purpose</th>\n",
       "      <th>dti</th>\n",
       "      <th>delinq_2yrs</th>\n",
       "      <th>...</th>\n",
       "      <th>num_tl_90g_dpd_24m</th>\n",
       "      <th>num_tl_op_past_12m</th>\n",
       "      <th>pct_tl_nvr_dlq</th>\n",
       "      <th>percent_bc_gt_75</th>\n",
       "      <th>pub_rec_bankruptcies</th>\n",
       "      <th>tax_liens</th>\n",
       "      <th>tot_hi_cred_lim</th>\n",
       "      <th>total_bal_ex_mort</th>\n",
       "      <th>total_bc_limit</th>\n",
       "      <th>total_il_high_credit_limit</th>\n",
       "    </tr>\n",
       "  </thead>\n",
       "  <tbody>\n",
       "    <tr>\n",
       "      <th>0</th>\n",
       "      <td>-1.279802</td>\n",
       "      <td>-0.579069</td>\n",
       "      <td>-1.240009</td>\n",
       "      <td>C</td>\n",
       "      <td>1.098272</td>\n",
       "      <td>MORTGAGE</td>\n",
       "      <td>-0.328292</td>\n",
       "      <td>debt_consolidation</td>\n",
       "      <td>-1.324187</td>\n",
       "      <td>-0.367941</td>\n",
       "      <td>...</td>\n",
       "      <td>-0.171637</td>\n",
       "      <td>0.447711</td>\n",
       "      <td>-2.043660</td>\n",
       "      <td>-1.252435</td>\n",
       "      <td>-0.345709</td>\n",
       "      <td>-0.132342</td>\n",
       "      <td>-0.010868</td>\n",
       "      <td>-0.913761</td>\n",
       "      <td>-0.917892</td>\n",
       "      <td>-0.706974</td>\n",
       "    </tr>\n",
       "    <tr>\n",
       "      <th>1</th>\n",
       "      <td>1.128241</td>\n",
       "      <td>-0.579069</td>\n",
       "      <td>1.415401</td>\n",
       "      <td>C</td>\n",
       "      <td>1.098272</td>\n",
       "      <td>MORTGAGE</td>\n",
       "      <td>-0.189794</td>\n",
       "      <td>small_business</td>\n",
       "      <td>-0.260251</td>\n",
       "      <td>0.756352</td>\n",
       "      <td>...</td>\n",
       "      <td>-0.171637</td>\n",
       "      <td>-0.097711</td>\n",
       "      <td>0.359521</td>\n",
       "      <td>-1.038034</td>\n",
       "      <td>-0.345709</td>\n",
       "      <td>-0.132342</td>\n",
       "      <td>0.755962</td>\n",
       "      <td>-0.262861</td>\n",
       "      <td>2.667526</td>\n",
       "      <td>-0.457813</td>\n",
       "    </tr>\n",
       "    <tr>\n",
       "      <th>3</th>\n",
       "      <td>-0.503750</td>\n",
       "      <td>1.726909</td>\n",
       "      <td>-0.604462</td>\n",
       "      <td>F</td>\n",
       "      <td>-0.865783</td>\n",
       "      <td>MORTGAGE</td>\n",
       "      <td>0.356344</td>\n",
       "      <td>major_purchase</td>\n",
       "      <td>0.715635</td>\n",
       "      <td>0.756352</td>\n",
       "      <td>...</td>\n",
       "      <td>-0.171637</td>\n",
       "      <td>0.993133</td>\n",
       "      <td>0.265738</td>\n",
       "      <td>0.418221</td>\n",
       "      <td>-0.345709</td>\n",
       "      <td>-0.132342</td>\n",
       "      <td>1.464059</td>\n",
       "      <td>0.891953</td>\n",
       "      <td>-0.083315</td>\n",
       "      <td>0.987743</td>\n",
       "    </tr>\n",
       "    <tr>\n",
       "      <th>4</th>\n",
       "      <td>-0.326856</td>\n",
       "      <td>-0.579069</td>\n",
       "      <td>-0.165468</td>\n",
       "      <td>C</td>\n",
       "      <td>-0.585204</td>\n",
       "      <td>RENT</td>\n",
       "      <td>-0.619137</td>\n",
       "      <td>debt_consolidation</td>\n",
       "      <td>-0.874504</td>\n",
       "      <td>-0.367941</td>\n",
       "      <td>...</td>\n",
       "      <td>-0.171637</td>\n",
       "      <td>-1.188556</td>\n",
       "      <td>0.664315</td>\n",
       "      <td>1.531992</td>\n",
       "      <td>-0.345709</td>\n",
       "      <td>-0.132342</td>\n",
       "      <td>-0.919727</td>\n",
       "      <td>-0.810122</td>\n",
       "      <td>-0.591521</td>\n",
       "      <td>-0.928810</td>\n",
       "    </tr>\n",
       "    <tr>\n",
       "      <th>5</th>\n",
       "      <td>0.591852</td>\n",
       "      <td>-0.579069</td>\n",
       "      <td>0.719605</td>\n",
       "      <td>B</td>\n",
       "      <td>1.098272</td>\n",
       "      <td>MORTGAGE</td>\n",
       "      <td>1.402929</td>\n",
       "      <td>debt_consolidation</td>\n",
       "      <td>-0.405953</td>\n",
       "      <td>-0.367941</td>\n",
       "      <td>...</td>\n",
       "      <td>-0.171637</td>\n",
       "      <td>-0.097711</td>\n",
       "      <td>0.230570</td>\n",
       "      <td>1.531992</td>\n",
       "      <td>-0.345709</td>\n",
       "      <td>-0.132342</td>\n",
       "      <td>1.178019</td>\n",
       "      <td>1.322631</td>\n",
       "      <td>0.438878</td>\n",
       "      <td>0.038662</td>\n",
       "    </tr>\n",
       "  </tbody>\n",
       "</table>\n",
       "<p>5 rows × 50 columns</p>\n",
       "</div>"
      ],
      "text/plain": [
       "   funded_amnt      term  installment grade  emp_length home_ownership  \\\n",
       "0    -1.279802 -0.579069    -1.240009     C    1.098272       MORTGAGE   \n",
       "1     1.128241 -0.579069     1.415401     C    1.098272       MORTGAGE   \n",
       "3    -0.503750  1.726909    -0.604462     F   -0.865783       MORTGAGE   \n",
       "4    -0.326856 -0.579069    -0.165468     C   -0.585204           RENT   \n",
       "5     0.591852 -0.579069     0.719605     B    1.098272       MORTGAGE   \n",
       "\n",
       "   annual_inc             purpose       dti  delinq_2yrs  ...  \\\n",
       "0   -0.328292  debt_consolidation -1.324187    -0.367941  ...   \n",
       "1   -0.189794      small_business -0.260251     0.756352  ...   \n",
       "3    0.356344      major_purchase  0.715635     0.756352  ...   \n",
       "4   -0.619137  debt_consolidation -0.874504    -0.367941  ...   \n",
       "5    1.402929  debt_consolidation -0.405953    -0.367941  ...   \n",
       "\n",
       "   num_tl_90g_dpd_24m  num_tl_op_past_12m  pct_tl_nvr_dlq  percent_bc_gt_75  \\\n",
       "0           -0.171637            0.447711       -2.043660         -1.252435   \n",
       "1           -0.171637           -0.097711        0.359521         -1.038034   \n",
       "3           -0.171637            0.993133        0.265738          0.418221   \n",
       "4           -0.171637           -1.188556        0.664315          1.531992   \n",
       "5           -0.171637           -0.097711        0.230570          1.531992   \n",
       "\n",
       "  pub_rec_bankruptcies  tax_liens  tot_hi_cred_lim  total_bal_ex_mort  \\\n",
       "0            -0.345709  -0.132342        -0.010868          -0.913761   \n",
       "1            -0.345709  -0.132342         0.755962          -0.262861   \n",
       "3            -0.345709  -0.132342         1.464059           0.891953   \n",
       "4            -0.345709  -0.132342        -0.919727          -0.810122   \n",
       "5            -0.345709  -0.132342         1.178019           1.322631   \n",
       "\n",
       "   total_bc_limit  total_il_high_credit_limit  \n",
       "0       -0.917892                   -0.706974  \n",
       "1        2.667526                   -0.457813  \n",
       "3       -0.083315                    0.987743  \n",
       "4       -0.591521                   -0.928810  \n",
       "5        0.438878                    0.038662  \n",
       "\n",
       "[5 rows x 50 columns]"
      ]
     },
     "execution_count": 181,
     "metadata": {},
     "output_type": "execute_result"
    }
   ],
   "source": [
    "df_scaled.head()"
   ]
  },
  {
   "cell_type": "code",
   "execution_count": 182,
   "metadata": {},
   "outputs": [],
   "source": [
    "df_scaled_dum = pd.get_dummies(df_scaled)"
   ]
  },
  {
   "cell_type": "code",
   "execution_count": 183,
   "metadata": {},
   "outputs": [
    {
     "data": {
      "text/html": [
       "<div>\n",
       "<style scoped>\n",
       "    .dataframe tbody tr th:only-of-type {\n",
       "        vertical-align: middle;\n",
       "    }\n",
       "\n",
       "    .dataframe tbody tr th {\n",
       "        vertical-align: top;\n",
       "    }\n",
       "\n",
       "    .dataframe thead th {\n",
       "        text-align: right;\n",
       "    }\n",
       "</style>\n",
       "<table border=\"1\" class=\"dataframe\">\n",
       "  <thead>\n",
       "    <tr style=\"text-align: right;\">\n",
       "      <th></th>\n",
       "      <th>funded_amnt</th>\n",
       "      <th>term</th>\n",
       "      <th>installment</th>\n",
       "      <th>emp_length</th>\n",
       "      <th>annual_inc</th>\n",
       "      <th>dti</th>\n",
       "      <th>delinq_2yrs</th>\n",
       "      <th>open_acc</th>\n",
       "      <th>revol_bal</th>\n",
       "      <th>revol_util</th>\n",
       "      <th>...</th>\n",
       "      <th>purpose_major_purchase</th>\n",
       "      <th>purpose_medical</th>\n",
       "      <th>purpose_moving</th>\n",
       "      <th>purpose_other</th>\n",
       "      <th>purpose_renewable_energy</th>\n",
       "      <th>purpose_small_business</th>\n",
       "      <th>purpose_vacation</th>\n",
       "      <th>purpose_wedding</th>\n",
       "      <th>application_type_Individual</th>\n",
       "      <th>application_type_Joint App</th>\n",
       "    </tr>\n",
       "  </thead>\n",
       "  <tbody>\n",
       "    <tr>\n",
       "      <th>0</th>\n",
       "      <td>-1.279802</td>\n",
       "      <td>-0.579069</td>\n",
       "      <td>-1.240009</td>\n",
       "      <td>1.098272</td>\n",
       "      <td>-0.328292</td>\n",
       "      <td>-1.324187</td>\n",
       "      <td>-0.367941</td>\n",
       "      <td>-0.896622</td>\n",
       "      <td>-0.630601</td>\n",
       "      <td>-0.912299</td>\n",
       "      <td>...</td>\n",
       "      <td>0</td>\n",
       "      <td>0</td>\n",
       "      <td>0</td>\n",
       "      <td>0</td>\n",
       "      <td>0</td>\n",
       "      <td>0</td>\n",
       "      <td>0</td>\n",
       "      <td>0</td>\n",
       "      <td>1</td>\n",
       "      <td>0</td>\n",
       "    </tr>\n",
       "    <tr>\n",
       "      <th>1</th>\n",
       "      <td>1.128241</td>\n",
       "      <td>-0.579069</td>\n",
       "      <td>1.415401</td>\n",
       "      <td>1.098272</td>\n",
       "      <td>-0.189794</td>\n",
       "      <td>-0.260251</td>\n",
       "      <td>0.756352</td>\n",
       "      <td>1.830533</td>\n",
       "      <td>0.232760</td>\n",
       "      <td>-1.345031</td>\n",
       "      <td>...</td>\n",
       "      <td>0</td>\n",
       "      <td>0</td>\n",
       "      <td>0</td>\n",
       "      <td>0</td>\n",
       "      <td>0</td>\n",
       "      <td>1</td>\n",
       "      <td>0</td>\n",
       "      <td>0</td>\n",
       "      <td>1</td>\n",
       "      <td>0</td>\n",
       "    </tr>\n",
       "    <tr>\n",
       "      <th>3</th>\n",
       "      <td>-0.503750</td>\n",
       "      <td>1.726909</td>\n",
       "      <td>-0.604462</td>\n",
       "      <td>-0.865783</td>\n",
       "      <td>0.356344</td>\n",
       "      <td>0.715635</td>\n",
       "      <td>0.756352</td>\n",
       "      <td>0.012430</td>\n",
       "      <td>0.253946</td>\n",
       "      <td>0.521900</td>\n",
       "      <td>...</td>\n",
       "      <td>1</td>\n",
       "      <td>0</td>\n",
       "      <td>0</td>\n",
       "      <td>0</td>\n",
       "      <td>0</td>\n",
       "      <td>0</td>\n",
       "      <td>0</td>\n",
       "      <td>0</td>\n",
       "      <td>1</td>\n",
       "      <td>0</td>\n",
       "    </tr>\n",
       "    <tr>\n",
       "      <th>4</th>\n",
       "      <td>-0.326856</td>\n",
       "      <td>-0.579069</td>\n",
       "      <td>-0.165468</td>\n",
       "      <td>-0.585204</td>\n",
       "      <td>-0.619137</td>\n",
       "      <td>-0.874504</td>\n",
       "      <td>-0.367941</td>\n",
       "      <td>-1.260242</td>\n",
       "      <td>-0.351030</td>\n",
       "      <td>0.682629</td>\n",
       "      <td>...</td>\n",
       "      <td>0</td>\n",
       "      <td>0</td>\n",
       "      <td>0</td>\n",
       "      <td>0</td>\n",
       "      <td>0</td>\n",
       "      <td>0</td>\n",
       "      <td>0</td>\n",
       "      <td>0</td>\n",
       "      <td>1</td>\n",
       "      <td>0</td>\n",
       "    </tr>\n",
       "    <tr>\n",
       "      <th>5</th>\n",
       "      <td>0.591852</td>\n",
       "      <td>-0.579069</td>\n",
       "      <td>0.719605</td>\n",
       "      <td>1.098272</td>\n",
       "      <td>1.402929</td>\n",
       "      <td>-0.405953</td>\n",
       "      <td>-0.367941</td>\n",
       "      <td>0.012430</td>\n",
       "      <td>3.272592</td>\n",
       "      <td>1.346153</td>\n",
       "      <td>...</td>\n",
       "      <td>0</td>\n",
       "      <td>0</td>\n",
       "      <td>0</td>\n",
       "      <td>0</td>\n",
       "      <td>0</td>\n",
       "      <td>0</td>\n",
       "      <td>0</td>\n",
       "      <td>0</td>\n",
       "      <td>1</td>\n",
       "      <td>0</td>\n",
       "    </tr>\n",
       "  </tbody>\n",
       "</table>\n",
       "<p>5 rows × 75 columns</p>\n",
       "</div>"
      ],
      "text/plain": [
       "   funded_amnt      term  installment  emp_length  annual_inc       dti  \\\n",
       "0    -1.279802 -0.579069    -1.240009    1.098272   -0.328292 -1.324187   \n",
       "1     1.128241 -0.579069     1.415401    1.098272   -0.189794 -0.260251   \n",
       "3    -0.503750  1.726909    -0.604462   -0.865783    0.356344  0.715635   \n",
       "4    -0.326856 -0.579069    -0.165468   -0.585204   -0.619137 -0.874504   \n",
       "5     0.591852 -0.579069     0.719605    1.098272    1.402929 -0.405953   \n",
       "\n",
       "   delinq_2yrs  open_acc  revol_bal  revol_util  ...  purpose_major_purchase  \\\n",
       "0    -0.367941 -0.896622  -0.630601   -0.912299  ...                       0   \n",
       "1     0.756352  1.830533   0.232760   -1.345031  ...                       0   \n",
       "3     0.756352  0.012430   0.253946    0.521900  ...                       1   \n",
       "4    -0.367941 -1.260242  -0.351030    0.682629  ...                       0   \n",
       "5    -0.367941  0.012430   3.272592    1.346153  ...                       0   \n",
       "\n",
       "   purpose_medical  purpose_moving  purpose_other  purpose_renewable_energy  \\\n",
       "0                0               0              0                         0   \n",
       "1                0               0              0                         0   \n",
       "3                0               0              0                         0   \n",
       "4                0               0              0                         0   \n",
       "5                0               0              0                         0   \n",
       "\n",
       "   purpose_small_business  purpose_vacation  purpose_wedding  \\\n",
       "0                       0                 0                0   \n",
       "1                       1                 0                0   \n",
       "3                       0                 0                0   \n",
       "4                       0                 0                0   \n",
       "5                       0                 0                0   \n",
       "\n",
       "   application_type_Individual  application_type_Joint App  \n",
       "0                            1                           0  \n",
       "1                            1                           0  \n",
       "3                            1                           0  \n",
       "4                            1                           0  \n",
       "5                            1                           0  \n",
       "\n",
       "[5 rows x 75 columns]"
      ]
     },
     "execution_count": 183,
     "metadata": {},
     "output_type": "execute_result"
    }
   ],
   "source": [
    "df_scaled_dum.head()"
   ]
  },
  {
   "cell_type": "code",
   "execution_count": 184,
   "metadata": {},
   "outputs": [],
   "source": [
    "X = df_scaled_dum.copy()"
   ]
  },
  {
   "cell_type": "markdown",
   "metadata": {},
   "source": [
    "### It seems like the data is normalized and dummy variable is created for categorical features. Now, Lets, split the data into training and testing sets and get ready to apply machine learning algorithms."
   ]
  },
  {
   "cell_type": "code",
   "execution_count": 185,
   "metadata": {},
   "outputs": [],
   "source": [
    "from sklearn.model_selection import train_test_split\n",
    "X_train, X_test, y_train, y_test = train_test_split(X, y, test_size = 0.25, random_state=42)"
   ]
  },
  {
   "cell_type": "code",
   "execution_count": 186,
   "metadata": {},
   "outputs": [
    {
     "name": "stdout",
     "output_type": "stream",
     "text": [
      "Shape of X_train: (817980, 75)\n",
      "Shape of y_train: (817980,)\n",
      "\n",
      "Shape of X_test: (272661, 75)\n",
      "Shape of y_test: (272661,)\n"
     ]
    }
   ],
   "source": [
    "print(\"Shape of X_train:\", np.shape(X_train))\n",
    "print(\"Shape of y_train:\", np.shape(y_train))\n",
    "print()\n",
    "print(\"Shape of X_test:\", np.shape(X_test))\n",
    "print(\"Shape of y_test:\", np.shape(y_test))"
   ]
  },
  {
   "cell_type": "code",
   "execution_count": 187,
   "metadata": {},
   "outputs": [],
   "source": [
    "X[\"loan_status\"] = y"
   ]
  },
  {
   "cell_type": "code",
   "execution_count": 188,
   "metadata": {},
   "outputs": [
    {
     "data": {
      "text/html": [
       "<div>\n",
       "<style scoped>\n",
       "    .dataframe tbody tr th:only-of-type {\n",
       "        vertical-align: middle;\n",
       "    }\n",
       "\n",
       "    .dataframe tbody tr th {\n",
       "        vertical-align: top;\n",
       "    }\n",
       "\n",
       "    .dataframe thead th {\n",
       "        text-align: right;\n",
       "    }\n",
       "</style>\n",
       "<table border=\"1\" class=\"dataframe\">\n",
       "  <thead>\n",
       "    <tr style=\"text-align: right;\">\n",
       "      <th></th>\n",
       "      <th>funded_amnt</th>\n",
       "      <th>term</th>\n",
       "      <th>installment</th>\n",
       "      <th>emp_length</th>\n",
       "      <th>annual_inc</th>\n",
       "      <th>dti</th>\n",
       "      <th>delinq_2yrs</th>\n",
       "      <th>open_acc</th>\n",
       "      <th>revol_bal</th>\n",
       "      <th>revol_util</th>\n",
       "      <th>...</th>\n",
       "      <th>purpose_medical</th>\n",
       "      <th>purpose_moving</th>\n",
       "      <th>purpose_other</th>\n",
       "      <th>purpose_renewable_energy</th>\n",
       "      <th>purpose_small_business</th>\n",
       "      <th>purpose_vacation</th>\n",
       "      <th>purpose_wedding</th>\n",
       "      <th>application_type_Individual</th>\n",
       "      <th>application_type_Joint App</th>\n",
       "      <th>loan_status</th>\n",
       "    </tr>\n",
       "  </thead>\n",
       "  <tbody>\n",
       "    <tr>\n",
       "      <th>0</th>\n",
       "      <td>-1.279802</td>\n",
       "      <td>-0.579069</td>\n",
       "      <td>-1.240009</td>\n",
       "      <td>1.098272</td>\n",
       "      <td>-0.328292</td>\n",
       "      <td>-1.324187</td>\n",
       "      <td>-0.367941</td>\n",
       "      <td>-0.896622</td>\n",
       "      <td>-0.630601</td>\n",
       "      <td>-0.912299</td>\n",
       "      <td>...</td>\n",
       "      <td>0</td>\n",
       "      <td>0</td>\n",
       "      <td>0</td>\n",
       "      <td>0</td>\n",
       "      <td>0</td>\n",
       "      <td>0</td>\n",
       "      <td>0</td>\n",
       "      <td>1</td>\n",
       "      <td>0</td>\n",
       "      <td>0</td>\n",
       "    </tr>\n",
       "    <tr>\n",
       "      <th>1</th>\n",
       "      <td>1.128241</td>\n",
       "      <td>-0.579069</td>\n",
       "      <td>1.415401</td>\n",
       "      <td>1.098272</td>\n",
       "      <td>-0.189794</td>\n",
       "      <td>-0.260251</td>\n",
       "      <td>0.756352</td>\n",
       "      <td>1.830533</td>\n",
       "      <td>0.232760</td>\n",
       "      <td>-1.345031</td>\n",
       "      <td>...</td>\n",
       "      <td>0</td>\n",
       "      <td>0</td>\n",
       "      <td>0</td>\n",
       "      <td>0</td>\n",
       "      <td>1</td>\n",
       "      <td>0</td>\n",
       "      <td>0</td>\n",
       "      <td>1</td>\n",
       "      <td>0</td>\n",
       "      <td>0</td>\n",
       "    </tr>\n",
       "    <tr>\n",
       "      <th>3</th>\n",
       "      <td>-0.503750</td>\n",
       "      <td>1.726909</td>\n",
       "      <td>-0.604462</td>\n",
       "      <td>-0.865783</td>\n",
       "      <td>0.356344</td>\n",
       "      <td>0.715635</td>\n",
       "      <td>0.756352</td>\n",
       "      <td>0.012430</td>\n",
       "      <td>0.253946</td>\n",
       "      <td>0.521900</td>\n",
       "      <td>...</td>\n",
       "      <td>0</td>\n",
       "      <td>0</td>\n",
       "      <td>0</td>\n",
       "      <td>0</td>\n",
       "      <td>0</td>\n",
       "      <td>0</td>\n",
       "      <td>0</td>\n",
       "      <td>1</td>\n",
       "      <td>0</td>\n",
       "      <td>0</td>\n",
       "    </tr>\n",
       "    <tr>\n",
       "      <th>4</th>\n",
       "      <td>-0.326856</td>\n",
       "      <td>-0.579069</td>\n",
       "      <td>-0.165468</td>\n",
       "      <td>-0.585204</td>\n",
       "      <td>-0.619137</td>\n",
       "      <td>-0.874504</td>\n",
       "      <td>-0.367941</td>\n",
       "      <td>-1.260242</td>\n",
       "      <td>-0.351030</td>\n",
       "      <td>0.682629</td>\n",
       "      <td>...</td>\n",
       "      <td>0</td>\n",
       "      <td>0</td>\n",
       "      <td>0</td>\n",
       "      <td>0</td>\n",
       "      <td>0</td>\n",
       "      <td>0</td>\n",
       "      <td>0</td>\n",
       "      <td>1</td>\n",
       "      <td>0</td>\n",
       "      <td>0</td>\n",
       "    </tr>\n",
       "    <tr>\n",
       "      <th>5</th>\n",
       "      <td>0.591852</td>\n",
       "      <td>-0.579069</td>\n",
       "      <td>0.719605</td>\n",
       "      <td>1.098272</td>\n",
       "      <td>1.402929</td>\n",
       "      <td>-0.405953</td>\n",
       "      <td>-0.367941</td>\n",
       "      <td>0.012430</td>\n",
       "      <td>3.272592</td>\n",
       "      <td>1.346153</td>\n",
       "      <td>...</td>\n",
       "      <td>0</td>\n",
       "      <td>0</td>\n",
       "      <td>0</td>\n",
       "      <td>0</td>\n",
       "      <td>0</td>\n",
       "      <td>0</td>\n",
       "      <td>0</td>\n",
       "      <td>1</td>\n",
       "      <td>0</td>\n",
       "      <td>0</td>\n",
       "    </tr>\n",
       "  </tbody>\n",
       "</table>\n",
       "<p>5 rows × 76 columns</p>\n",
       "</div>"
      ],
      "text/plain": [
       "   funded_amnt      term  installment  emp_length  annual_inc       dti  \\\n",
       "0    -1.279802 -0.579069    -1.240009    1.098272   -0.328292 -1.324187   \n",
       "1     1.128241 -0.579069     1.415401    1.098272   -0.189794 -0.260251   \n",
       "3    -0.503750  1.726909    -0.604462   -0.865783    0.356344  0.715635   \n",
       "4    -0.326856 -0.579069    -0.165468   -0.585204   -0.619137 -0.874504   \n",
       "5     0.591852 -0.579069     0.719605    1.098272    1.402929 -0.405953   \n",
       "\n",
       "   delinq_2yrs  open_acc  revol_bal  revol_util  ...  purpose_medical  \\\n",
       "0    -0.367941 -0.896622  -0.630601   -0.912299  ...                0   \n",
       "1     0.756352  1.830533   0.232760   -1.345031  ...                0   \n",
       "3     0.756352  0.012430   0.253946    0.521900  ...                0   \n",
       "4    -0.367941 -1.260242  -0.351030    0.682629  ...                0   \n",
       "5    -0.367941  0.012430   3.272592    1.346153  ...                0   \n",
       "\n",
       "   purpose_moving  purpose_other  purpose_renewable_energy  \\\n",
       "0               0              0                         0   \n",
       "1               0              0                         0   \n",
       "3               0              0                         0   \n",
       "4               0              0                         0   \n",
       "5               0              0                         0   \n",
       "\n",
       "   purpose_small_business  purpose_vacation  purpose_wedding  \\\n",
       "0                       0                 0                0   \n",
       "1                       1                 0                0   \n",
       "3                       0                 0                0   \n",
       "4                       0                 0                0   \n",
       "5                       0                 0                0   \n",
       "\n",
       "   application_type_Individual  application_type_Joint App  loan_status  \n",
       "0                            1                           0            0  \n",
       "1                            1                           0            0  \n",
       "3                            1                           0            0  \n",
       "4                            1                           0            0  \n",
       "5                            1                           0            0  \n",
       "\n",
       "[5 rows x 76 columns]"
      ]
     },
     "execution_count": 188,
     "metadata": {},
     "output_type": "execute_result"
    }
   ],
   "source": [
    "X.head()"
   ]
  },
  {
   "cell_type": "code",
   "execution_count": 189,
   "metadata": {},
   "outputs": [
    {
     "name": "stdout",
     "output_type": "stream",
     "text": [
      "A file already exists with this name.\n",
      "\n",
      "Do you want to overwrite? (Y/N)y\n",
      "Writing file.  \"./LendingClub_scaled.csv\"\n"
     ]
    }
   ],
   "source": [
    "## save data for next step\n",
    "from sb_utils import save_file\n",
    "data_dir = \"./\"\n",
    "save_file(X, \"LendingClub_scaled.csv\", data_dir)"
   ]
  },
  {
   "cell_type": "markdown",
   "metadata": {},
   "source": [
    "## Now, go to modeling part"
   ]
  },
  {
   "cell_type": "code",
   "execution_count": null,
   "metadata": {},
   "outputs": [],
   "source": []
  }
 ],
 "metadata": {
  "kernelspec": {
   "display_name": "Python 3",
   "language": "python",
   "name": "python3"
  },
  "language_info": {
   "codemirror_mode": {
    "name": "ipython",
    "version": 3
   },
   "file_extension": ".py",
   "mimetype": "text/x-python",
   "name": "python",
   "nbconvert_exporter": "python",
   "pygments_lexer": "ipython3",
   "version": "3.8.8"
  }
 },
 "nbformat": 4,
 "nbformat_minor": 4
}
