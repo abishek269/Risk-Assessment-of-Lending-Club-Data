{
 "cells": [
  {
   "cell_type": "markdown",
   "metadata": {},
   "source": [
    "## Let build machine learning models"
   ]
  },
  {
   "cell_type": "code",
   "execution_count": 1,
   "metadata": {},
   "outputs": [],
   "source": [
    "import pandas as pd\n",
    "import numpy as np\n",
    "import matplotlib.pyplot as plt\n",
    "import seaborn as sns\n",
    "from sklearn.model_selection import train_test_split"
   ]
  },
  {
   "cell_type": "code",
   "execution_count": 2,
   "metadata": {},
   "outputs": [],
   "source": [
    "df = pd.read_csv(\"LendingClub_scaled.csv\")"
   ]
  },
  {
   "cell_type": "code",
   "execution_count": 3,
   "metadata": {},
   "outputs": [
    {
     "data": {
      "text/html": [
       "<div>\n",
       "<style scoped>\n",
       "    .dataframe tbody tr th:only-of-type {\n",
       "        vertical-align: middle;\n",
       "    }\n",
       "\n",
       "    .dataframe tbody tr th {\n",
       "        vertical-align: top;\n",
       "    }\n",
       "\n",
       "    .dataframe thead th {\n",
       "        text-align: right;\n",
       "    }\n",
       "</style>\n",
       "<table border=\"1\" class=\"dataframe\">\n",
       "  <thead>\n",
       "    <tr style=\"text-align: right;\">\n",
       "      <th></th>\n",
       "      <th>funded_amnt</th>\n",
       "      <th>term</th>\n",
       "      <th>installment</th>\n",
       "      <th>emp_length</th>\n",
       "      <th>annual_inc</th>\n",
       "      <th>dti</th>\n",
       "      <th>delinq_2yrs</th>\n",
       "      <th>open_acc</th>\n",
       "      <th>revol_bal</th>\n",
       "      <th>revol_util</th>\n",
       "      <th>...</th>\n",
       "      <th>purpose_medical</th>\n",
       "      <th>purpose_moving</th>\n",
       "      <th>purpose_other</th>\n",
       "      <th>purpose_renewable_energy</th>\n",
       "      <th>purpose_small_business</th>\n",
       "      <th>purpose_vacation</th>\n",
       "      <th>purpose_wedding</th>\n",
       "      <th>application_type_Individual</th>\n",
       "      <th>application_type_Joint App</th>\n",
       "      <th>loan_status</th>\n",
       "    </tr>\n",
       "  </thead>\n",
       "  <tbody>\n",
       "    <tr>\n",
       "      <th>0</th>\n",
       "      <td>-1.279802</td>\n",
       "      <td>-0.579069</td>\n",
       "      <td>-1.240009</td>\n",
       "      <td>1.098272</td>\n",
       "      <td>-0.328292</td>\n",
       "      <td>-1.324187</td>\n",
       "      <td>-0.367941</td>\n",
       "      <td>-0.896622</td>\n",
       "      <td>-0.630601</td>\n",
       "      <td>-0.912299</td>\n",
       "      <td>...</td>\n",
       "      <td>0</td>\n",
       "      <td>0</td>\n",
       "      <td>0</td>\n",
       "      <td>0</td>\n",
       "      <td>0</td>\n",
       "      <td>0</td>\n",
       "      <td>0</td>\n",
       "      <td>1</td>\n",
       "      <td>0</td>\n",
       "      <td>0</td>\n",
       "    </tr>\n",
       "    <tr>\n",
       "      <th>1</th>\n",
       "      <td>1.128241</td>\n",
       "      <td>-0.579069</td>\n",
       "      <td>1.415401</td>\n",
       "      <td>1.098272</td>\n",
       "      <td>-0.189794</td>\n",
       "      <td>-0.260251</td>\n",
       "      <td>0.756352</td>\n",
       "      <td>1.830533</td>\n",
       "      <td>0.232760</td>\n",
       "      <td>-1.345031</td>\n",
       "      <td>...</td>\n",
       "      <td>0</td>\n",
       "      <td>0</td>\n",
       "      <td>0</td>\n",
       "      <td>0</td>\n",
       "      <td>1</td>\n",
       "      <td>0</td>\n",
       "      <td>0</td>\n",
       "      <td>1</td>\n",
       "      <td>0</td>\n",
       "      <td>0</td>\n",
       "    </tr>\n",
       "    <tr>\n",
       "      <th>2</th>\n",
       "      <td>-0.503750</td>\n",
       "      <td>1.726909</td>\n",
       "      <td>-0.604462</td>\n",
       "      <td>-0.865783</td>\n",
       "      <td>0.356344</td>\n",
       "      <td>0.715635</td>\n",
       "      <td>0.756352</td>\n",
       "      <td>0.012430</td>\n",
       "      <td>0.253946</td>\n",
       "      <td>0.521900</td>\n",
       "      <td>...</td>\n",
       "      <td>0</td>\n",
       "      <td>0</td>\n",
       "      <td>0</td>\n",
       "      <td>0</td>\n",
       "      <td>0</td>\n",
       "      <td>0</td>\n",
       "      <td>0</td>\n",
       "      <td>1</td>\n",
       "      <td>0</td>\n",
       "      <td>0</td>\n",
       "    </tr>\n",
       "    <tr>\n",
       "      <th>3</th>\n",
       "      <td>-0.326856</td>\n",
       "      <td>-0.579069</td>\n",
       "      <td>-0.165468</td>\n",
       "      <td>-0.585204</td>\n",
       "      <td>-0.619137</td>\n",
       "      <td>-0.874504</td>\n",
       "      <td>-0.367941</td>\n",
       "      <td>-1.260242</td>\n",
       "      <td>-0.351030</td>\n",
       "      <td>0.682629</td>\n",
       "      <td>...</td>\n",
       "      <td>0</td>\n",
       "      <td>0</td>\n",
       "      <td>0</td>\n",
       "      <td>0</td>\n",
       "      <td>0</td>\n",
       "      <td>0</td>\n",
       "      <td>0</td>\n",
       "      <td>1</td>\n",
       "      <td>0</td>\n",
       "      <td>0</td>\n",
       "    </tr>\n",
       "    <tr>\n",
       "      <th>4</th>\n",
       "      <td>0.591852</td>\n",
       "      <td>-0.579069</td>\n",
       "      <td>0.719605</td>\n",
       "      <td>1.098272</td>\n",
       "      <td>1.402929</td>\n",
       "      <td>-0.405953</td>\n",
       "      <td>-0.367941</td>\n",
       "      <td>0.012430</td>\n",
       "      <td>3.272592</td>\n",
       "      <td>1.346153</td>\n",
       "      <td>...</td>\n",
       "      <td>0</td>\n",
       "      <td>0</td>\n",
       "      <td>0</td>\n",
       "      <td>0</td>\n",
       "      <td>0</td>\n",
       "      <td>0</td>\n",
       "      <td>0</td>\n",
       "      <td>1</td>\n",
       "      <td>0</td>\n",
       "      <td>0</td>\n",
       "    </tr>\n",
       "  </tbody>\n",
       "</table>\n",
       "<p>5 rows × 76 columns</p>\n",
       "</div>"
      ],
      "text/plain": [
       "   funded_amnt      term  installment  emp_length  annual_inc       dti  \\\n",
       "0    -1.279802 -0.579069    -1.240009    1.098272   -0.328292 -1.324187   \n",
       "1     1.128241 -0.579069     1.415401    1.098272   -0.189794 -0.260251   \n",
       "2    -0.503750  1.726909    -0.604462   -0.865783    0.356344  0.715635   \n",
       "3    -0.326856 -0.579069    -0.165468   -0.585204   -0.619137 -0.874504   \n",
       "4     0.591852 -0.579069     0.719605    1.098272    1.402929 -0.405953   \n",
       "\n",
       "   delinq_2yrs  open_acc  revol_bal  revol_util  ...  purpose_medical  \\\n",
       "0    -0.367941 -0.896622  -0.630601   -0.912299  ...                0   \n",
       "1     0.756352  1.830533   0.232760   -1.345031  ...                0   \n",
       "2     0.756352  0.012430   0.253946    0.521900  ...                0   \n",
       "3    -0.367941 -1.260242  -0.351030    0.682629  ...                0   \n",
       "4    -0.367941  0.012430   3.272592    1.346153  ...                0   \n",
       "\n",
       "   purpose_moving  purpose_other  purpose_renewable_energy  \\\n",
       "0               0              0                         0   \n",
       "1               0              0                         0   \n",
       "2               0              0                         0   \n",
       "3               0              0                         0   \n",
       "4               0              0                         0   \n",
       "\n",
       "   purpose_small_business  purpose_vacation  purpose_wedding  \\\n",
       "0                       0                 0                0   \n",
       "1                       1                 0                0   \n",
       "2                       0                 0                0   \n",
       "3                       0                 0                0   \n",
       "4                       0                 0                0   \n",
       "\n",
       "   application_type_Individual  application_type_Joint App  loan_status  \n",
       "0                            1                           0            0  \n",
       "1                            1                           0            0  \n",
       "2                            1                           0            0  \n",
       "3                            1                           0            0  \n",
       "4                            1                           0            0  \n",
       "\n",
       "[5 rows x 76 columns]"
      ]
     },
     "execution_count": 3,
     "metadata": {},
     "output_type": "execute_result"
    }
   ],
   "source": [
    "df.head()"
   ]
  },
  {
   "cell_type": "markdown",
   "metadata": {},
   "source": [
    "### Now lets pick best model"
   ]
  },
  {
   "cell_type": "code",
   "execution_count": 7,
   "metadata": {},
   "outputs": [],
   "source": [
    "df_sam = df.sample(n = 50000)  ### only pick few rows randomly to see the best model"
   ]
  },
  {
   "cell_type": "code",
   "execution_count": 8,
   "metadata": {},
   "outputs": [
    {
     "data": {
      "text/plain": [
       "(50000, 76)"
      ]
     },
     "execution_count": 8,
     "metadata": {},
     "output_type": "execute_result"
    }
   ],
   "source": [
    "df_sam.shape"
   ]
  },
  {
   "cell_type": "code",
   "execution_count": 18,
   "metadata": {},
   "outputs": [
    {
     "data": {
      "text/plain": [
       "0    40321\n",
       "1     9679\n",
       "Name: loan_status, dtype: int64"
      ]
     },
     "execution_count": 18,
     "metadata": {},
     "output_type": "execute_result"
    }
   ],
   "source": [
    "df_sam.loan_status.value_counts()"
   ]
  },
  {
   "cell_type": "code",
   "execution_count": 16,
   "metadata": {},
   "outputs": [
    {
     "name": "stdout",
     "output_type": "stream",
     "text": [
      "Using PyCaret Version 2.2.0\n"
     ]
    }
   ],
   "source": [
    "import pycaret\n",
    "print('Using PyCaret Version', pycaret.__version__)"
   ]
  },
  {
   "cell_type": "code",
   "execution_count": 32,
   "metadata": {},
   "outputs": [
    {
     "data": {
      "text/html": [
       "<style  type=\"text/css\" >\n",
       "    #T_cc336e77_b8d6_11eb_81a2_48f17ff7bb32 th {\n",
       "          text-align: left;\n",
       "    }#T_cc336e77_b8d6_11eb_81a2_48f17ff7bb32row0_col0,#T_cc336e77_b8d6_11eb_81a2_48f17ff7bb32row0_col3,#T_cc336e77_b8d6_11eb_81a2_48f17ff7bb32row0_col5,#T_cc336e77_b8d6_11eb_81a2_48f17ff7bb32row0_col6,#T_cc336e77_b8d6_11eb_81a2_48f17ff7bb32row0_col7,#T_cc336e77_b8d6_11eb_81a2_48f17ff7bb32row1_col0,#T_cc336e77_b8d6_11eb_81a2_48f17ff7bb32row1_col1,#T_cc336e77_b8d6_11eb_81a2_48f17ff7bb32row1_col2,#T_cc336e77_b8d6_11eb_81a2_48f17ff7bb32row1_col3,#T_cc336e77_b8d6_11eb_81a2_48f17ff7bb32row1_col4,#T_cc336e77_b8d6_11eb_81a2_48f17ff7bb32row1_col5,#T_cc336e77_b8d6_11eb_81a2_48f17ff7bb32row1_col6,#T_cc336e77_b8d6_11eb_81a2_48f17ff7bb32row1_col7,#T_cc336e77_b8d6_11eb_81a2_48f17ff7bb32row2_col0,#T_cc336e77_b8d6_11eb_81a2_48f17ff7bb32row2_col1,#T_cc336e77_b8d6_11eb_81a2_48f17ff7bb32row2_col2,#T_cc336e77_b8d6_11eb_81a2_48f17ff7bb32row2_col3,#T_cc336e77_b8d6_11eb_81a2_48f17ff7bb32row2_col4,#T_cc336e77_b8d6_11eb_81a2_48f17ff7bb32row2_col5,#T_cc336e77_b8d6_11eb_81a2_48f17ff7bb32row2_col6,#T_cc336e77_b8d6_11eb_81a2_48f17ff7bb32row2_col7,#T_cc336e77_b8d6_11eb_81a2_48f17ff7bb32row3_col0,#T_cc336e77_b8d6_11eb_81a2_48f17ff7bb32row3_col1,#T_cc336e77_b8d6_11eb_81a2_48f17ff7bb32row3_col2,#T_cc336e77_b8d6_11eb_81a2_48f17ff7bb32row3_col3,#T_cc336e77_b8d6_11eb_81a2_48f17ff7bb32row3_col4,#T_cc336e77_b8d6_11eb_81a2_48f17ff7bb32row3_col5,#T_cc336e77_b8d6_11eb_81a2_48f17ff7bb32row3_col6,#T_cc336e77_b8d6_11eb_81a2_48f17ff7bb32row3_col7,#T_cc336e77_b8d6_11eb_81a2_48f17ff7bb32row4_col0,#T_cc336e77_b8d6_11eb_81a2_48f17ff7bb32row4_col1,#T_cc336e77_b8d6_11eb_81a2_48f17ff7bb32row4_col2,#T_cc336e77_b8d6_11eb_81a2_48f17ff7bb32row4_col3,#T_cc336e77_b8d6_11eb_81a2_48f17ff7bb32row4_col4,#T_cc336e77_b8d6_11eb_81a2_48f17ff7bb32row4_col5,#T_cc336e77_b8d6_11eb_81a2_48f17ff7bb32row4_col6,#T_cc336e77_b8d6_11eb_81a2_48f17ff7bb32row4_col7,#T_cc336e77_b8d6_11eb_81a2_48f17ff7bb32row5_col0,#T_cc336e77_b8d6_11eb_81a2_48f17ff7bb32row5_col1,#T_cc336e77_b8d6_11eb_81a2_48f17ff7bb32row5_col2,#T_cc336e77_b8d6_11eb_81a2_48f17ff7bb32row5_col3,#T_cc336e77_b8d6_11eb_81a2_48f17ff7bb32row5_col4,#T_cc336e77_b8d6_11eb_81a2_48f17ff7bb32row5_col5,#T_cc336e77_b8d6_11eb_81a2_48f17ff7bb32row5_col6,#T_cc336e77_b8d6_11eb_81a2_48f17ff7bb32row5_col7,#T_cc336e77_b8d6_11eb_81a2_48f17ff7bb32row6_col0,#T_cc336e77_b8d6_11eb_81a2_48f17ff7bb32row6_col1,#T_cc336e77_b8d6_11eb_81a2_48f17ff7bb32row6_col2,#T_cc336e77_b8d6_11eb_81a2_48f17ff7bb32row6_col3,#T_cc336e77_b8d6_11eb_81a2_48f17ff7bb32row6_col4,#T_cc336e77_b8d6_11eb_81a2_48f17ff7bb32row6_col5,#T_cc336e77_b8d6_11eb_81a2_48f17ff7bb32row6_col6,#T_cc336e77_b8d6_11eb_81a2_48f17ff7bb32row6_col7,#T_cc336e77_b8d6_11eb_81a2_48f17ff7bb32row7_col0,#T_cc336e77_b8d6_11eb_81a2_48f17ff7bb32row7_col1,#T_cc336e77_b8d6_11eb_81a2_48f17ff7bb32row7_col2,#T_cc336e77_b8d6_11eb_81a2_48f17ff7bb32row7_col3,#T_cc336e77_b8d6_11eb_81a2_48f17ff7bb32row7_col4,#T_cc336e77_b8d6_11eb_81a2_48f17ff7bb32row7_col5,#T_cc336e77_b8d6_11eb_81a2_48f17ff7bb32row8_col0,#T_cc336e77_b8d6_11eb_81a2_48f17ff7bb32row8_col1,#T_cc336e77_b8d6_11eb_81a2_48f17ff7bb32row8_col2,#T_cc336e77_b8d6_11eb_81a2_48f17ff7bb32row8_col3,#T_cc336e77_b8d6_11eb_81a2_48f17ff7bb32row8_col4,#T_cc336e77_b8d6_11eb_81a2_48f17ff7bb32row8_col5,#T_cc336e77_b8d6_11eb_81a2_48f17ff7bb32row8_col6,#T_cc336e77_b8d6_11eb_81a2_48f17ff7bb32row8_col7,#T_cc336e77_b8d6_11eb_81a2_48f17ff7bb32row9_col0,#T_cc336e77_b8d6_11eb_81a2_48f17ff7bb32row9_col1,#T_cc336e77_b8d6_11eb_81a2_48f17ff7bb32row9_col2,#T_cc336e77_b8d6_11eb_81a2_48f17ff7bb32row9_col3,#T_cc336e77_b8d6_11eb_81a2_48f17ff7bb32row9_col4,#T_cc336e77_b8d6_11eb_81a2_48f17ff7bb32row9_col5,#T_cc336e77_b8d6_11eb_81a2_48f17ff7bb32row9_col6,#T_cc336e77_b8d6_11eb_81a2_48f17ff7bb32row9_col7,#T_cc336e77_b8d6_11eb_81a2_48f17ff7bb32row10_col0,#T_cc336e77_b8d6_11eb_81a2_48f17ff7bb32row10_col1,#T_cc336e77_b8d6_11eb_81a2_48f17ff7bb32row10_col2,#T_cc336e77_b8d6_11eb_81a2_48f17ff7bb32row10_col3,#T_cc336e77_b8d6_11eb_81a2_48f17ff7bb32row10_col4,#T_cc336e77_b8d6_11eb_81a2_48f17ff7bb32row10_col5,#T_cc336e77_b8d6_11eb_81a2_48f17ff7bb32row10_col6,#T_cc336e77_b8d6_11eb_81a2_48f17ff7bb32row10_col7,#T_cc336e77_b8d6_11eb_81a2_48f17ff7bb32row11_col0,#T_cc336e77_b8d6_11eb_81a2_48f17ff7bb32row11_col1,#T_cc336e77_b8d6_11eb_81a2_48f17ff7bb32row11_col2,#T_cc336e77_b8d6_11eb_81a2_48f17ff7bb32row11_col3,#T_cc336e77_b8d6_11eb_81a2_48f17ff7bb32row11_col4,#T_cc336e77_b8d6_11eb_81a2_48f17ff7bb32row11_col5,#T_cc336e77_b8d6_11eb_81a2_48f17ff7bb32row11_col6,#T_cc336e77_b8d6_11eb_81a2_48f17ff7bb32row11_col7,#T_cc336e77_b8d6_11eb_81a2_48f17ff7bb32row12_col0,#T_cc336e77_b8d6_11eb_81a2_48f17ff7bb32row12_col1,#T_cc336e77_b8d6_11eb_81a2_48f17ff7bb32row12_col2,#T_cc336e77_b8d6_11eb_81a2_48f17ff7bb32row12_col3,#T_cc336e77_b8d6_11eb_81a2_48f17ff7bb32row12_col4,#T_cc336e77_b8d6_11eb_81a2_48f17ff7bb32row12_col5,#T_cc336e77_b8d6_11eb_81a2_48f17ff7bb32row12_col6,#T_cc336e77_b8d6_11eb_81a2_48f17ff7bb32row12_col7,#T_cc336e77_b8d6_11eb_81a2_48f17ff7bb32row13_col0,#T_cc336e77_b8d6_11eb_81a2_48f17ff7bb32row13_col1,#T_cc336e77_b8d6_11eb_81a2_48f17ff7bb32row13_col2,#T_cc336e77_b8d6_11eb_81a2_48f17ff7bb32row13_col3,#T_cc336e77_b8d6_11eb_81a2_48f17ff7bb32row13_col4,#T_cc336e77_b8d6_11eb_81a2_48f17ff7bb32row13_col5,#T_cc336e77_b8d6_11eb_81a2_48f17ff7bb32row13_col6,#T_cc336e77_b8d6_11eb_81a2_48f17ff7bb32row13_col7,#T_cc336e77_b8d6_11eb_81a2_48f17ff7bb32row14_col0,#T_cc336e77_b8d6_11eb_81a2_48f17ff7bb32row14_col1,#T_cc336e77_b8d6_11eb_81a2_48f17ff7bb32row14_col2,#T_cc336e77_b8d6_11eb_81a2_48f17ff7bb32row14_col4,#T_cc336e77_b8d6_11eb_81a2_48f17ff7bb32row14_col6,#T_cc336e77_b8d6_11eb_81a2_48f17ff7bb32row14_col7{\n",
       "            text-align:  left;\n",
       "            text-align:  left;\n",
       "        }#T_cc336e77_b8d6_11eb_81a2_48f17ff7bb32row0_col1,#T_cc336e77_b8d6_11eb_81a2_48f17ff7bb32row0_col2,#T_cc336e77_b8d6_11eb_81a2_48f17ff7bb32row0_col4,#T_cc336e77_b8d6_11eb_81a2_48f17ff7bb32row7_col6,#T_cc336e77_b8d6_11eb_81a2_48f17ff7bb32row7_col7,#T_cc336e77_b8d6_11eb_81a2_48f17ff7bb32row14_col3,#T_cc336e77_b8d6_11eb_81a2_48f17ff7bb32row14_col5{\n",
       "            text-align:  left;\n",
       "            text-align:  left;\n",
       "            background-color:  yellow;\n",
       "        }#T_cc336e77_b8d6_11eb_81a2_48f17ff7bb32row0_col8,#T_cc336e77_b8d6_11eb_81a2_48f17ff7bb32row1_col8,#T_cc336e77_b8d6_11eb_81a2_48f17ff7bb32row3_col8,#T_cc336e77_b8d6_11eb_81a2_48f17ff7bb32row4_col8,#T_cc336e77_b8d6_11eb_81a2_48f17ff7bb32row5_col8,#T_cc336e77_b8d6_11eb_81a2_48f17ff7bb32row6_col8,#T_cc336e77_b8d6_11eb_81a2_48f17ff7bb32row7_col8,#T_cc336e77_b8d6_11eb_81a2_48f17ff7bb32row8_col8,#T_cc336e77_b8d6_11eb_81a2_48f17ff7bb32row9_col8,#T_cc336e77_b8d6_11eb_81a2_48f17ff7bb32row10_col8,#T_cc336e77_b8d6_11eb_81a2_48f17ff7bb32row11_col8,#T_cc336e77_b8d6_11eb_81a2_48f17ff7bb32row12_col8,#T_cc336e77_b8d6_11eb_81a2_48f17ff7bb32row13_col8,#T_cc336e77_b8d6_11eb_81a2_48f17ff7bb32row14_col8{\n",
       "            text-align:  left;\n",
       "            text-align:  left;\n",
       "            background-color:  lightgrey;\n",
       "        }#T_cc336e77_b8d6_11eb_81a2_48f17ff7bb32row2_col8{\n",
       "            text-align:  left;\n",
       "            text-align:  left;\n",
       "            background-color:  yellow;\n",
       "            background-color:  lightgrey;\n",
       "        }</style><table id=\"T_cc336e77_b8d6_11eb_81a2_48f17ff7bb32\" ><thead>    <tr>        <th class=\"blank level0\" ></th>        <th class=\"col_heading level0 col0\" >Model</th>        <th class=\"col_heading level0 col1\" >Accuracy</th>        <th class=\"col_heading level0 col2\" >AUC</th>        <th class=\"col_heading level0 col3\" >Recall</th>        <th class=\"col_heading level0 col4\" >Prec.</th>        <th class=\"col_heading level0 col5\" >F1</th>        <th class=\"col_heading level0 col6\" >Kappa</th>        <th class=\"col_heading level0 col7\" >MCC</th>        <th class=\"col_heading level0 col8\" >TT (Sec)</th>    </tr></thead><tbody>\n",
       "                <tr>\n",
       "                        <th id=\"T_cc336e77_b8d6_11eb_81a2_48f17ff7bb32level0_row0\" class=\"row_heading level0 row0\" >gbc</th>\n",
       "                        <td id=\"T_cc336e77_b8d6_11eb_81a2_48f17ff7bb32row0_col0\" class=\"data row0 col0\" >Gradient Boosting Classifier</td>\n",
       "                        <td id=\"T_cc336e77_b8d6_11eb_81a2_48f17ff7bb32row0_col1\" class=\"data row0 col1\" >0.8098</td>\n",
       "                        <td id=\"T_cc336e77_b8d6_11eb_81a2_48f17ff7bb32row0_col2\" class=\"data row0 col2\" >0.7156</td>\n",
       "                        <td id=\"T_cc336e77_b8d6_11eb_81a2_48f17ff7bb32row0_col3\" class=\"data row0 col3\" >0.0640</td>\n",
       "                        <td id=\"T_cc336e77_b8d6_11eb_81a2_48f17ff7bb32row0_col4\" class=\"data row0 col4\" >0.5747</td>\n",
       "                        <td id=\"T_cc336e77_b8d6_11eb_81a2_48f17ff7bb32row0_col5\" class=\"data row0 col5\" >0.1150</td>\n",
       "                        <td id=\"T_cc336e77_b8d6_11eb_81a2_48f17ff7bb32row0_col6\" class=\"data row0 col6\" >0.0791</td>\n",
       "                        <td id=\"T_cc336e77_b8d6_11eb_81a2_48f17ff7bb32row0_col7\" class=\"data row0 col7\" >0.1427</td>\n",
       "                        <td id=\"T_cc336e77_b8d6_11eb_81a2_48f17ff7bb32row0_col8\" class=\"data row0 col8\" >2.7600</td>\n",
       "            </tr>\n",
       "            <tr>\n",
       "                        <th id=\"T_cc336e77_b8d6_11eb_81a2_48f17ff7bb32level0_row1\" class=\"row_heading level0 row1\" >lr</th>\n",
       "                        <td id=\"T_cc336e77_b8d6_11eb_81a2_48f17ff7bb32row1_col0\" class=\"data row1 col0\" >Logistic Regression</td>\n",
       "                        <td id=\"T_cc336e77_b8d6_11eb_81a2_48f17ff7bb32row1_col1\" class=\"data row1 col1\" >0.8091</td>\n",
       "                        <td id=\"T_cc336e77_b8d6_11eb_81a2_48f17ff7bb32row1_col2\" class=\"data row1 col2\" >0.7146</td>\n",
       "                        <td id=\"T_cc336e77_b8d6_11eb_81a2_48f17ff7bb32row1_col3\" class=\"data row1 col3\" >0.0671</td>\n",
       "                        <td id=\"T_cc336e77_b8d6_11eb_81a2_48f17ff7bb32row1_col4\" class=\"data row1 col4\" >0.5516</td>\n",
       "                        <td id=\"T_cc336e77_b8d6_11eb_81a2_48f17ff7bb32row1_col5\" class=\"data row1 col5\" >0.1195</td>\n",
       "                        <td id=\"T_cc336e77_b8d6_11eb_81a2_48f17ff7bb32row1_col6\" class=\"data row1 col6\" >0.0810</td>\n",
       "                        <td id=\"T_cc336e77_b8d6_11eb_81a2_48f17ff7bb32row1_col7\" class=\"data row1 col7\" >0.1405</td>\n",
       "                        <td id=\"T_cc336e77_b8d6_11eb_81a2_48f17ff7bb32row1_col8\" class=\"data row1 col8\" >1.3690</td>\n",
       "            </tr>\n",
       "            <tr>\n",
       "                        <th id=\"T_cc336e77_b8d6_11eb_81a2_48f17ff7bb32level0_row2\" class=\"row_heading level0 row2\" >ridge</th>\n",
       "                        <td id=\"T_cc336e77_b8d6_11eb_81a2_48f17ff7bb32row2_col0\" class=\"data row2 col0\" >Ridge Classifier</td>\n",
       "                        <td id=\"T_cc336e77_b8d6_11eb_81a2_48f17ff7bb32row2_col1\" class=\"data row2 col1\" >0.8084</td>\n",
       "                        <td id=\"T_cc336e77_b8d6_11eb_81a2_48f17ff7bb32row2_col2\" class=\"data row2 col2\" >0.0000</td>\n",
       "                        <td id=\"T_cc336e77_b8d6_11eb_81a2_48f17ff7bb32row2_col3\" class=\"data row2 col3\" >0.0439</td>\n",
       "                        <td id=\"T_cc336e77_b8d6_11eb_81a2_48f17ff7bb32row2_col4\" class=\"data row2 col4\" >0.5587</td>\n",
       "                        <td id=\"T_cc336e77_b8d6_11eb_81a2_48f17ff7bb32row2_col5\" class=\"data row2 col5\" >0.0812</td>\n",
       "                        <td id=\"T_cc336e77_b8d6_11eb_81a2_48f17ff7bb32row2_col6\" class=\"data row2 col6\" >0.0545</td>\n",
       "                        <td id=\"T_cc336e77_b8d6_11eb_81a2_48f17ff7bb32row2_col7\" class=\"data row2 col7\" >0.1142</td>\n",
       "                        <td id=\"T_cc336e77_b8d6_11eb_81a2_48f17ff7bb32row2_col8\" class=\"data row2 col8\" >0.0450</td>\n",
       "            </tr>\n",
       "            <tr>\n",
       "                        <th id=\"T_cc336e77_b8d6_11eb_81a2_48f17ff7bb32level0_row3\" class=\"row_heading level0 row3\" >catboost</th>\n",
       "                        <td id=\"T_cc336e77_b8d6_11eb_81a2_48f17ff7bb32row3_col0\" class=\"data row3 col0\" >CatBoost Classifier</td>\n",
       "                        <td id=\"T_cc336e77_b8d6_11eb_81a2_48f17ff7bb32row3_col1\" class=\"data row3 col1\" >0.8084</td>\n",
       "                        <td id=\"T_cc336e77_b8d6_11eb_81a2_48f17ff7bb32row3_col2\" class=\"data row3 col2\" >0.7127</td>\n",
       "                        <td id=\"T_cc336e77_b8d6_11eb_81a2_48f17ff7bb32row3_col3\" class=\"data row3 col3\" >0.0908</td>\n",
       "                        <td id=\"T_cc336e77_b8d6_11eb_81a2_48f17ff7bb32row3_col4\" class=\"data row3 col4\" >0.5268</td>\n",
       "                        <td id=\"T_cc336e77_b8d6_11eb_81a2_48f17ff7bb32row3_col5\" class=\"data row3 col5\" >0.1546</td>\n",
       "                        <td id=\"T_cc336e77_b8d6_11eb_81a2_48f17ff7bb32row3_col6\" class=\"data row3 col6\" >0.1036</td>\n",
       "                        <td id=\"T_cc336e77_b8d6_11eb_81a2_48f17ff7bb32row3_col7\" class=\"data row3 col7\" >0.1563</td>\n",
       "                        <td id=\"T_cc336e77_b8d6_11eb_81a2_48f17ff7bb32row3_col8\" class=\"data row3 col8\" >8.5620</td>\n",
       "            </tr>\n",
       "            <tr>\n",
       "                        <th id=\"T_cc336e77_b8d6_11eb_81a2_48f17ff7bb32level0_row4\" class=\"row_heading level0 row4\" >rf</th>\n",
       "                        <td id=\"T_cc336e77_b8d6_11eb_81a2_48f17ff7bb32row4_col0\" class=\"data row4 col0\" >Random Forest Classifier</td>\n",
       "                        <td id=\"T_cc336e77_b8d6_11eb_81a2_48f17ff7bb32row4_col1\" class=\"data row4 col1\" >0.8081</td>\n",
       "                        <td id=\"T_cc336e77_b8d6_11eb_81a2_48f17ff7bb32row4_col2\" class=\"data row4 col2\" >0.6968</td>\n",
       "                        <td id=\"T_cc336e77_b8d6_11eb_81a2_48f17ff7bb32row4_col3\" class=\"data row4 col3\" >0.0420</td>\n",
       "                        <td id=\"T_cc336e77_b8d6_11eb_81a2_48f17ff7bb32row4_col4\" class=\"data row4 col4\" >0.5549</td>\n",
       "                        <td id=\"T_cc336e77_b8d6_11eb_81a2_48f17ff7bb32row4_col5\" class=\"data row4 col5\" >0.0779</td>\n",
       "                        <td id=\"T_cc336e77_b8d6_11eb_81a2_48f17ff7bb32row4_col6\" class=\"data row4 col6\" >0.0519</td>\n",
       "                        <td id=\"T_cc336e77_b8d6_11eb_81a2_48f17ff7bb32row4_col7\" class=\"data row4 col7\" >0.1107</td>\n",
       "                        <td id=\"T_cc336e77_b8d6_11eb_81a2_48f17ff7bb32row4_col8\" class=\"data row4 col8\" >1.6680</td>\n",
       "            </tr>\n",
       "            <tr>\n",
       "                        <th id=\"T_cc336e77_b8d6_11eb_81a2_48f17ff7bb32level0_row5\" class=\"row_heading level0 row5\" >lightgbm</th>\n",
       "                        <td id=\"T_cc336e77_b8d6_11eb_81a2_48f17ff7bb32row5_col0\" class=\"data row5 col0\" >Light Gradient Boosting Machine</td>\n",
       "                        <td id=\"T_cc336e77_b8d6_11eb_81a2_48f17ff7bb32row5_col1\" class=\"data row5 col1\" >0.8081</td>\n",
       "                        <td id=\"T_cc336e77_b8d6_11eb_81a2_48f17ff7bb32row5_col2\" class=\"data row5 col2\" >0.7128</td>\n",
       "                        <td id=\"T_cc336e77_b8d6_11eb_81a2_48f17ff7bb32row5_col3\" class=\"data row5 col3\" >0.0800</td>\n",
       "                        <td id=\"T_cc336e77_b8d6_11eb_81a2_48f17ff7bb32row5_col4\" class=\"data row5 col4\" >0.5267</td>\n",
       "                        <td id=\"T_cc336e77_b8d6_11eb_81a2_48f17ff7bb32row5_col5\" class=\"data row5 col5\" >0.1386</td>\n",
       "                        <td id=\"T_cc336e77_b8d6_11eb_81a2_48f17ff7bb32row5_col6\" class=\"data row5 col6\" >0.0922</td>\n",
       "                        <td id=\"T_cc336e77_b8d6_11eb_81a2_48f17ff7bb32row5_col7\" class=\"data row5 col7\" >0.1462</td>\n",
       "                        <td id=\"T_cc336e77_b8d6_11eb_81a2_48f17ff7bb32row5_col8\" class=\"data row5 col8\" >0.4490</td>\n",
       "            </tr>\n",
       "            <tr>\n",
       "                        <th id=\"T_cc336e77_b8d6_11eb_81a2_48f17ff7bb32level0_row6\" class=\"row_heading level0 row6\" >ada</th>\n",
       "                        <td id=\"T_cc336e77_b8d6_11eb_81a2_48f17ff7bb32row6_col0\" class=\"data row6 col0\" >Ada Boost Classifier</td>\n",
       "                        <td id=\"T_cc336e77_b8d6_11eb_81a2_48f17ff7bb32row6_col1\" class=\"data row6 col1\" >0.8077</td>\n",
       "                        <td id=\"T_cc336e77_b8d6_11eb_81a2_48f17ff7bb32row6_col2\" class=\"data row6 col2\" >0.7094</td>\n",
       "                        <td id=\"T_cc336e77_b8d6_11eb_81a2_48f17ff7bb32row6_col3\" class=\"data row6 col3\" >0.0784</td>\n",
       "                        <td id=\"T_cc336e77_b8d6_11eb_81a2_48f17ff7bb32row6_col4\" class=\"data row6 col4\" >0.5172</td>\n",
       "                        <td id=\"T_cc336e77_b8d6_11eb_81a2_48f17ff7bb32row6_col5\" class=\"data row6 col5\" >0.1360</td>\n",
       "                        <td id=\"T_cc336e77_b8d6_11eb_81a2_48f17ff7bb32row6_col6\" class=\"data row6 col6\" >0.0898</td>\n",
       "                        <td id=\"T_cc336e77_b8d6_11eb_81a2_48f17ff7bb32row6_col7\" class=\"data row6 col7\" >0.1424</td>\n",
       "                        <td id=\"T_cc336e77_b8d6_11eb_81a2_48f17ff7bb32row6_col8\" class=\"data row6 col8\" >0.5950</td>\n",
       "            </tr>\n",
       "            <tr>\n",
       "                        <th id=\"T_cc336e77_b8d6_11eb_81a2_48f17ff7bb32level0_row7\" class=\"row_heading level0 row7\" >lda</th>\n",
       "                        <td id=\"T_cc336e77_b8d6_11eb_81a2_48f17ff7bb32row7_col0\" class=\"data row7 col0\" >Linear Discriminant Analysis</td>\n",
       "                        <td id=\"T_cc336e77_b8d6_11eb_81a2_48f17ff7bb32row7_col1\" class=\"data row7 col1\" >0.8067</td>\n",
       "                        <td id=\"T_cc336e77_b8d6_11eb_81a2_48f17ff7bb32row7_col2\" class=\"data row7 col2\" >0.7132</td>\n",
       "                        <td id=\"T_cc336e77_b8d6_11eb_81a2_48f17ff7bb32row7_col3\" class=\"data row7 col3\" >0.1127</td>\n",
       "                        <td id=\"T_cc336e77_b8d6_11eb_81a2_48f17ff7bb32row7_col4\" class=\"data row7 col4\" >0.5000</td>\n",
       "                        <td id=\"T_cc336e77_b8d6_11eb_81a2_48f17ff7bb32row7_col5\" class=\"data row7 col5\" >0.1837</td>\n",
       "                        <td id=\"T_cc336e77_b8d6_11eb_81a2_48f17ff7bb32row7_col6\" class=\"data row7 col6\" >0.1212</td>\n",
       "                        <td id=\"T_cc336e77_b8d6_11eb_81a2_48f17ff7bb32row7_col7\" class=\"data row7 col7\" >0.1655</td>\n",
       "                        <td id=\"T_cc336e77_b8d6_11eb_81a2_48f17ff7bb32row7_col8\" class=\"data row7 col8\" >0.2160</td>\n",
       "            </tr>\n",
       "            <tr>\n",
       "                        <th id=\"T_cc336e77_b8d6_11eb_81a2_48f17ff7bb32level0_row8\" class=\"row_heading level0 row8\" >et</th>\n",
       "                        <td id=\"T_cc336e77_b8d6_11eb_81a2_48f17ff7bb32row8_col0\" class=\"data row8 col0\" >Extra Trees Classifier</td>\n",
       "                        <td id=\"T_cc336e77_b8d6_11eb_81a2_48f17ff7bb32row8_col1\" class=\"data row8 col1\" >0.8064</td>\n",
       "                        <td id=\"T_cc336e77_b8d6_11eb_81a2_48f17ff7bb32row8_col2\" class=\"data row8 col2\" >0.6904</td>\n",
       "                        <td id=\"T_cc336e77_b8d6_11eb_81a2_48f17ff7bb32row8_col3\" class=\"data row8 col3\" >0.0596</td>\n",
       "                        <td id=\"T_cc336e77_b8d6_11eb_81a2_48f17ff7bb32row8_col4\" class=\"data row8 col4\" >0.4935</td>\n",
       "                        <td id=\"T_cc336e77_b8d6_11eb_81a2_48f17ff7bb32row8_col5\" class=\"data row8 col5\" >0.1062</td>\n",
       "                        <td id=\"T_cc336e77_b8d6_11eb_81a2_48f17ff7bb32row8_col6\" class=\"data row8 col6\" >0.0674</td>\n",
       "                        <td id=\"T_cc336e77_b8d6_11eb_81a2_48f17ff7bb32row8_col7\" class=\"data row8 col7\" >0.1174</td>\n",
       "                        <td id=\"T_cc336e77_b8d6_11eb_81a2_48f17ff7bb32row8_col8\" class=\"data row8 col8\" >2.1590</td>\n",
       "            </tr>\n",
       "            <tr>\n",
       "                        <th id=\"T_cc336e77_b8d6_11eb_81a2_48f17ff7bb32level0_row9\" class=\"row_heading level0 row9\" >svm</th>\n",
       "                        <td id=\"T_cc336e77_b8d6_11eb_81a2_48f17ff7bb32row9_col0\" class=\"data row9 col0\" >SVM - Linear Kernel</td>\n",
       "                        <td id=\"T_cc336e77_b8d6_11eb_81a2_48f17ff7bb32row9_col1\" class=\"data row9 col1\" >0.8034</td>\n",
       "                        <td id=\"T_cc336e77_b8d6_11eb_81a2_48f17ff7bb32row9_col2\" class=\"data row9 col2\" >0.0000</td>\n",
       "                        <td id=\"T_cc336e77_b8d6_11eb_81a2_48f17ff7bb32row9_col3\" class=\"data row9 col3\" >0.0514</td>\n",
       "                        <td id=\"T_cc336e77_b8d6_11eb_81a2_48f17ff7bb32row9_col4\" class=\"data row9 col4\" >0.4313</td>\n",
       "                        <td id=\"T_cc336e77_b8d6_11eb_81a2_48f17ff7bb32row9_col5\" class=\"data row9 col5\" >0.0869</td>\n",
       "                        <td id=\"T_cc336e77_b8d6_11eb_81a2_48f17ff7bb32row9_col6\" class=\"data row9 col6\" >0.0506</td>\n",
       "                        <td id=\"T_cc336e77_b8d6_11eb_81a2_48f17ff7bb32row9_col7\" class=\"data row9 col7\" >0.0873</td>\n",
       "                        <td id=\"T_cc336e77_b8d6_11eb_81a2_48f17ff7bb32row9_col8\" class=\"data row9 col8\" >0.1970</td>\n",
       "            </tr>\n",
       "            <tr>\n",
       "                        <th id=\"T_cc336e77_b8d6_11eb_81a2_48f17ff7bb32level0_row10\" class=\"row_heading level0 row10\" >xgboost</th>\n",
       "                        <td id=\"T_cc336e77_b8d6_11eb_81a2_48f17ff7bb32row10_col0\" class=\"data row10 col0\" >Extreme Gradient Boosting</td>\n",
       "                        <td id=\"T_cc336e77_b8d6_11eb_81a2_48f17ff7bb32row10_col1\" class=\"data row10 col1\" >0.8007</td>\n",
       "                        <td id=\"T_cc336e77_b8d6_11eb_81a2_48f17ff7bb32row10_col2\" class=\"data row10 col2\" >0.6902</td>\n",
       "                        <td id=\"T_cc336e77_b8d6_11eb_81a2_48f17ff7bb32row10_col3\" class=\"data row10 col3\" >0.1246</td>\n",
       "                        <td id=\"T_cc336e77_b8d6_11eb_81a2_48f17ff7bb32row10_col4\" class=\"data row10 col4\" >0.4448</td>\n",
       "                        <td id=\"T_cc336e77_b8d6_11eb_81a2_48f17ff7bb32row10_col5\" class=\"data row10 col5\" >0.1945</td>\n",
       "                        <td id=\"T_cc336e77_b8d6_11eb_81a2_48f17ff7bb32row10_col6\" class=\"data row10 col6\" >0.1202</td>\n",
       "                        <td id=\"T_cc336e77_b8d6_11eb_81a2_48f17ff7bb32row10_col7\" class=\"data row10 col7\" >0.1523</td>\n",
       "                        <td id=\"T_cc336e77_b8d6_11eb_81a2_48f17ff7bb32row10_col8\" class=\"data row10 col8\" >2.2120</td>\n",
       "            </tr>\n",
       "            <tr>\n",
       "                        <th id=\"T_cc336e77_b8d6_11eb_81a2_48f17ff7bb32level0_row11\" class=\"row_heading level0 row11\" >knn</th>\n",
       "                        <td id=\"T_cc336e77_b8d6_11eb_81a2_48f17ff7bb32row11_col0\" class=\"data row11 col0\" >K Neighbors Classifier</td>\n",
       "                        <td id=\"T_cc336e77_b8d6_11eb_81a2_48f17ff7bb32row11_col1\" class=\"data row11 col1\" >0.7861</td>\n",
       "                        <td id=\"T_cc336e77_b8d6_11eb_81a2_48f17ff7bb32row11_col2\" class=\"data row11 col2\" >0.5869</td>\n",
       "                        <td id=\"T_cc336e77_b8d6_11eb_81a2_48f17ff7bb32row11_col3\" class=\"data row11 col3\" >0.1023</td>\n",
       "                        <td id=\"T_cc336e77_b8d6_11eb_81a2_48f17ff7bb32row11_col4\" class=\"data row11 col4\" >0.3290</td>\n",
       "                        <td id=\"T_cc336e77_b8d6_11eb_81a2_48f17ff7bb32row11_col5\" class=\"data row11 col5\" >0.1560</td>\n",
       "                        <td id=\"T_cc336e77_b8d6_11eb_81a2_48f17ff7bb32row11_col6\" class=\"data row11 col6\" >0.0708</td>\n",
       "                        <td id=\"T_cc336e77_b8d6_11eb_81a2_48f17ff7bb32row11_col7\" class=\"data row11 col7\" >0.0868</td>\n",
       "                        <td id=\"T_cc336e77_b8d6_11eb_81a2_48f17ff7bb32row11_col8\" class=\"data row11 col8\" >10.7550</td>\n",
       "            </tr>\n",
       "            <tr>\n",
       "                        <th id=\"T_cc336e77_b8d6_11eb_81a2_48f17ff7bb32level0_row12\" class=\"row_heading level0 row12\" >dt</th>\n",
       "                        <td id=\"T_cc336e77_b8d6_11eb_81a2_48f17ff7bb32row12_col0\" class=\"data row12 col0\" >Decision Tree Classifier</td>\n",
       "                        <td id=\"T_cc336e77_b8d6_11eb_81a2_48f17ff7bb32row12_col1\" class=\"data row12 col1\" >0.7092</td>\n",
       "                        <td id=\"T_cc336e77_b8d6_11eb_81a2_48f17ff7bb32row12_col2\" class=\"data row12 col2\" >0.5481</td>\n",
       "                        <td id=\"T_cc336e77_b8d6_11eb_81a2_48f17ff7bb32row12_col3\" class=\"data row12 col3\" >0.2855</td>\n",
       "                        <td id=\"T_cc336e77_b8d6_11eb_81a2_48f17ff7bb32row12_col4\" class=\"data row12 col4\" >0.2655</td>\n",
       "                        <td id=\"T_cc336e77_b8d6_11eb_81a2_48f17ff7bb32row12_col5\" class=\"data row12 col5\" >0.2751</td>\n",
       "                        <td id=\"T_cc336e77_b8d6_11eb_81a2_48f17ff7bb32row12_col6\" class=\"data row12 col6\" >0.0935</td>\n",
       "                        <td id=\"T_cc336e77_b8d6_11eb_81a2_48f17ff7bb32row12_col7\" class=\"data row12 col7\" >0.0936</td>\n",
       "                        <td id=\"T_cc336e77_b8d6_11eb_81a2_48f17ff7bb32row12_col8\" class=\"data row12 col8\" >0.2730</td>\n",
       "            </tr>\n",
       "            <tr>\n",
       "                        <th id=\"T_cc336e77_b8d6_11eb_81a2_48f17ff7bb32level0_row13\" class=\"row_heading level0 row13\" >qda</th>\n",
       "                        <td id=\"T_cc336e77_b8d6_11eb_81a2_48f17ff7bb32row13_col0\" class=\"data row13 col0\" >Quadratic Discriminant Analysis</td>\n",
       "                        <td id=\"T_cc336e77_b8d6_11eb_81a2_48f17ff7bb32row13_col1\" class=\"data row13 col1\" >0.5315</td>\n",
       "                        <td id=\"T_cc336e77_b8d6_11eb_81a2_48f17ff7bb32row13_col2\" class=\"data row13 col2\" >0.5014</td>\n",
       "                        <td id=\"T_cc336e77_b8d6_11eb_81a2_48f17ff7bb32row13_col3\" class=\"data row13 col3\" >0.4524</td>\n",
       "                        <td id=\"T_cc336e77_b8d6_11eb_81a2_48f17ff7bb32row13_col4\" class=\"data row13 col4\" >0.2004</td>\n",
       "                        <td id=\"T_cc336e77_b8d6_11eb_81a2_48f17ff7bb32row13_col5\" class=\"data row13 col5\" >0.2646</td>\n",
       "                        <td id=\"T_cc336e77_b8d6_11eb_81a2_48f17ff7bb32row13_col6\" class=\"data row13 col6\" >0.0063</td>\n",
       "                        <td id=\"T_cc336e77_b8d6_11eb_81a2_48f17ff7bb32row13_col7\" class=\"data row13 col7\" >0.0045</td>\n",
       "                        <td id=\"T_cc336e77_b8d6_11eb_81a2_48f17ff7bb32row13_col8\" class=\"data row13 col8\" >0.3070</td>\n",
       "            </tr>\n",
       "            <tr>\n",
       "                        <th id=\"T_cc336e77_b8d6_11eb_81a2_48f17ff7bb32level0_row14\" class=\"row_heading level0 row14\" >nb</th>\n",
       "                        <td id=\"T_cc336e77_b8d6_11eb_81a2_48f17ff7bb32row14_col0\" class=\"data row14 col0\" >Naive Bayes</td>\n",
       "                        <td id=\"T_cc336e77_b8d6_11eb_81a2_48f17ff7bb32row14_col1\" class=\"data row14 col1\" >0.3645</td>\n",
       "                        <td id=\"T_cc336e77_b8d6_11eb_81a2_48f17ff7bb32row14_col2\" class=\"data row14 col2\" >0.6800</td>\n",
       "                        <td id=\"T_cc336e77_b8d6_11eb_81a2_48f17ff7bb32row14_col3\" class=\"data row14 col3\" >0.9231</td>\n",
       "                        <td id=\"T_cc336e77_b8d6_11eb_81a2_48f17ff7bb32row14_col4\" class=\"data row14 col4\" >0.2237</td>\n",
       "                        <td id=\"T_cc336e77_b8d6_11eb_81a2_48f17ff7bb32row14_col5\" class=\"data row14 col5\" >0.3599</td>\n",
       "                        <td id=\"T_cc336e77_b8d6_11eb_81a2_48f17ff7bb32row14_col6\" class=\"data row14 col6\" >0.0708</td>\n",
       "                        <td id=\"T_cc336e77_b8d6_11eb_81a2_48f17ff7bb32row14_col7\" class=\"data row14 col7\" >0.1515</td>\n",
       "                        <td id=\"T_cc336e77_b8d6_11eb_81a2_48f17ff7bb32row14_col8\" class=\"data row14 col8\" >0.0540</td>\n",
       "            </tr>\n",
       "    </tbody></table>"
      ],
      "text/plain": [
       "<pandas.io.formats.style.Styler at 0x178851f6bb0>"
      ]
     },
     "metadata": {},
     "output_type": "display_data"
    },
    {
     "name": "stdout",
     "output_type": "stream",
     "text": [
      "GradientBoostingClassifier(ccp_alpha=0.0, criterion='friedman_mse', init=None,\n",
      "                           learning_rate=0.1, loss='deviance', max_depth=3,\n",
      "                           max_features=None, max_leaf_nodes=None,\n",
      "                           min_impurity_decrease=0.0, min_impurity_split=None,\n",
      "                           min_samples_leaf=1, min_samples_split=2,\n",
      "                           min_weight_fraction_leaf=0.0, n_estimators=100,\n",
      "                           n_iter_no_change=None, presort='deprecated',\n",
      "                           random_state=5403, subsample=1.0, tol=0.0001,\n",
      "                           validation_fraction=0.1, verbose=0,\n",
      "                           warm_start=False)\n"
     ]
    }
   ],
   "source": [
    "# compare machine learning algorithms on the sonar classification dataset\n",
    "\n",
    "from pycaret.classification import setup\n",
    "from pycaret.classification import compare_models\n",
    "\n",
    "# setup the dataset\n",
    "grid = setup(data=df_sam, target=\"loan_status\")\n",
    "# evaluate models and compare models\n",
    "best = compare_models()\n",
    "# report the best model\n",
    "print(best)"
   ]
  },
  {
   "cell_type": "markdown",
   "metadata": {},
   "source": [
    "### let's pick the best base classifier model from the above and save it and tune the hyperparameter"
   ]
  },
  {
   "cell_type": "code",
   "execution_count": 33,
   "metadata": {},
   "outputs": [
    {
     "data": {
      "text/html": [
       "<style  type=\"text/css\" >\n",
       "#T_0cc97fa5_b8d7_11eb_93c5_48f17ff7bb32row10_col0,#T_0cc97fa5_b8d7_11eb_93c5_48f17ff7bb32row10_col1,#T_0cc97fa5_b8d7_11eb_93c5_48f17ff7bb32row10_col2,#T_0cc97fa5_b8d7_11eb_93c5_48f17ff7bb32row10_col3,#T_0cc97fa5_b8d7_11eb_93c5_48f17ff7bb32row10_col4,#T_0cc97fa5_b8d7_11eb_93c5_48f17ff7bb32row10_col5,#T_0cc97fa5_b8d7_11eb_93c5_48f17ff7bb32row10_col6{\n",
       "            background:  yellow;\n",
       "        }</style><table id=\"T_0cc97fa5_b8d7_11eb_93c5_48f17ff7bb32\" ><thead>    <tr>        <th class=\"blank level0\" ></th>        <th class=\"col_heading level0 col0\" >Accuracy</th>        <th class=\"col_heading level0 col1\" >AUC</th>        <th class=\"col_heading level0 col2\" >Recall</th>        <th class=\"col_heading level0 col3\" >Prec.</th>        <th class=\"col_heading level0 col4\" >F1</th>        <th class=\"col_heading level0 col5\" >Kappa</th>        <th class=\"col_heading level0 col6\" >MCC</th>    </tr></thead><tbody>\n",
       "                <tr>\n",
       "                        <th id=\"T_0cc97fa5_b8d7_11eb_93c5_48f17ff7bb32level0_row0\" class=\"row_heading level0 row0\" >0</th>\n",
       "                        <td id=\"T_0cc97fa5_b8d7_11eb_93c5_48f17ff7bb32row0_col0\" class=\"data row0 col0\" >0.3371</td>\n",
       "                        <td id=\"T_0cc97fa5_b8d7_11eb_93c5_48f17ff7bb32row0_col1\" class=\"data row0 col1\" >0.6787</td>\n",
       "                        <td id=\"T_0cc97fa5_b8d7_11eb_93c5_48f17ff7bb32row0_col2\" class=\"data row0 col2\" >0.9275</td>\n",
       "                        <td id=\"T_0cc97fa5_b8d7_11eb_93c5_48f17ff7bb32row0_col3\" class=\"data row0 col3\" >0.2164</td>\n",
       "                        <td id=\"T_0cc97fa5_b8d7_11eb_93c5_48f17ff7bb32row0_col4\" class=\"data row0 col4\" >0.3509</td>\n",
       "                        <td id=\"T_0cc97fa5_b8d7_11eb_93c5_48f17ff7bb32row0_col5\" class=\"data row0 col5\" >0.0548</td>\n",
       "                        <td id=\"T_0cc97fa5_b8d7_11eb_93c5_48f17ff7bb32row0_col6\" class=\"data row0 col6\" >0.1290</td>\n",
       "            </tr>\n",
       "            <tr>\n",
       "                        <th id=\"T_0cc97fa5_b8d7_11eb_93c5_48f17ff7bb32level0_row1\" class=\"row_heading level0 row1\" >1</th>\n",
       "                        <td id=\"T_0cc97fa5_b8d7_11eb_93c5_48f17ff7bb32row1_col0\" class=\"data row1 col0\" >0.3640</td>\n",
       "                        <td id=\"T_0cc97fa5_b8d7_11eb_93c5_48f17ff7bb32row1_col1\" class=\"data row1 col1\" >0.6795</td>\n",
       "                        <td id=\"T_0cc97fa5_b8d7_11eb_93c5_48f17ff7bb32row1_col2\" class=\"data row1 col2\" >0.9260</td>\n",
       "                        <td id=\"T_0cc97fa5_b8d7_11eb_93c5_48f17ff7bb32row1_col3\" class=\"data row1 col3\" >0.2234</td>\n",
       "                        <td id=\"T_0cc97fa5_b8d7_11eb_93c5_48f17ff7bb32row1_col4\" class=\"data row1 col4\" >0.3600</td>\n",
       "                        <td id=\"T_0cc97fa5_b8d7_11eb_93c5_48f17ff7bb32row1_col5\" class=\"data row1 col5\" >0.0708</td>\n",
       "                        <td id=\"T_0cc97fa5_b8d7_11eb_93c5_48f17ff7bb32row1_col6\" class=\"data row1 col6\" >0.1536</td>\n",
       "            </tr>\n",
       "            <tr>\n",
       "                        <th id=\"T_0cc97fa5_b8d7_11eb_93c5_48f17ff7bb32level0_row2\" class=\"row_heading level0 row2\" >2</th>\n",
       "                        <td id=\"T_0cc97fa5_b8d7_11eb_93c5_48f17ff7bb32row2_col0\" class=\"data row2 col0\" >0.3229</td>\n",
       "                        <td id=\"T_0cc97fa5_b8d7_11eb_93c5_48f17ff7bb32row2_col1\" class=\"data row2 col1\" >0.6920</td>\n",
       "                        <td id=\"T_0cc97fa5_b8d7_11eb_93c5_48f17ff7bb32row2_col2\" class=\"data row2 col2\" >0.9527</td>\n",
       "                        <td id=\"T_0cc97fa5_b8d7_11eb_93c5_48f17ff7bb32row2_col3\" class=\"data row2 col3\" >0.2160</td>\n",
       "                        <td id=\"T_0cc97fa5_b8d7_11eb_93c5_48f17ff7bb32row2_col4\" class=\"data row2 col4\" >0.3521</td>\n",
       "                        <td id=\"T_0cc97fa5_b8d7_11eb_93c5_48f17ff7bb32row2_col5\" class=\"data row2 col5\" >0.0543</td>\n",
       "                        <td id=\"T_0cc97fa5_b8d7_11eb_93c5_48f17ff7bb32row2_col6\" class=\"data row2 col6\" >0.1387</td>\n",
       "            </tr>\n",
       "            <tr>\n",
       "                        <th id=\"T_0cc97fa5_b8d7_11eb_93c5_48f17ff7bb32level0_row3\" class=\"row_heading level0 row3\" >3</th>\n",
       "                        <td id=\"T_0cc97fa5_b8d7_11eb_93c5_48f17ff7bb32row3_col0\" class=\"data row3 col0\" >0.3363</td>\n",
       "                        <td id=\"T_0cc97fa5_b8d7_11eb_93c5_48f17ff7bb32row3_col1\" class=\"data row3 col1\" >0.6872</td>\n",
       "                        <td id=\"T_0cc97fa5_b8d7_11eb_93c5_48f17ff7bb32row3_col2\" class=\"data row3 col2\" >0.9393</td>\n",
       "                        <td id=\"T_0cc97fa5_b8d7_11eb_93c5_48f17ff7bb32row3_col3\" class=\"data row3 col3\" >0.2177</td>\n",
       "                        <td id=\"T_0cc97fa5_b8d7_11eb_93c5_48f17ff7bb32row3_col4\" class=\"data row3 col4\" >0.3535</td>\n",
       "                        <td id=\"T_0cc97fa5_b8d7_11eb_93c5_48f17ff7bb32row3_col5\" class=\"data row3 col5\" >0.0581</td>\n",
       "                        <td id=\"T_0cc97fa5_b8d7_11eb_93c5_48f17ff7bb32row3_col6\" class=\"data row3 col6\" >0.1391</td>\n",
       "            </tr>\n",
       "            <tr>\n",
       "                        <th id=\"T_0cc97fa5_b8d7_11eb_93c5_48f17ff7bb32level0_row4\" class=\"row_heading level0 row4\" >4</th>\n",
       "                        <td id=\"T_0cc97fa5_b8d7_11eb_93c5_48f17ff7bb32row4_col0\" class=\"data row4 col0\" >0.3606</td>\n",
       "                        <td id=\"T_0cc97fa5_b8d7_11eb_93c5_48f17ff7bb32row4_col1\" class=\"data row4 col1\" >0.6765</td>\n",
       "                        <td id=\"T_0cc97fa5_b8d7_11eb_93c5_48f17ff7bb32row4_col2\" class=\"data row4 col2\" >0.9408</td>\n",
       "                        <td id=\"T_0cc97fa5_b8d7_11eb_93c5_48f17ff7bb32row4_col3\" class=\"data row4 col3\" >0.2244</td>\n",
       "                        <td id=\"T_0cc97fa5_b8d7_11eb_93c5_48f17ff7bb32row4_col4\" class=\"data row4 col4\" >0.3624</td>\n",
       "                        <td id=\"T_0cc97fa5_b8d7_11eb_93c5_48f17ff7bb32row4_col5\" class=\"data row4 col5\" >0.0734</td>\n",
       "                        <td id=\"T_0cc97fa5_b8d7_11eb_93c5_48f17ff7bb32row4_col6\" class=\"data row4 col6\" >0.1634</td>\n",
       "            </tr>\n",
       "            <tr>\n",
       "                        <th id=\"T_0cc97fa5_b8d7_11eb_93c5_48f17ff7bb32level0_row5\" class=\"row_heading level0 row5\" >5</th>\n",
       "                        <td id=\"T_0cc97fa5_b8d7_11eb_93c5_48f17ff7bb32row5_col0\" class=\"data row5 col0\" >0.3517</td>\n",
       "                        <td id=\"T_0cc97fa5_b8d7_11eb_93c5_48f17ff7bb32row5_col1\" class=\"data row5 col1\" >0.6769</td>\n",
       "                        <td id=\"T_0cc97fa5_b8d7_11eb_93c5_48f17ff7bb32row5_col2\" class=\"data row5 col2\" >0.9247</td>\n",
       "                        <td id=\"T_0cc97fa5_b8d7_11eb_93c5_48f17ff7bb32row5_col3\" class=\"data row5 col3\" >0.2201</td>\n",
       "                        <td id=\"T_0cc97fa5_b8d7_11eb_93c5_48f17ff7bb32row5_col4\" class=\"data row5 col4\" >0.3556</td>\n",
       "                        <td id=\"T_0cc97fa5_b8d7_11eb_93c5_48f17ff7bb32row5_col5\" class=\"data row5 col5\" >0.0627</td>\n",
       "                        <td id=\"T_0cc97fa5_b8d7_11eb_93c5_48f17ff7bb32row5_col6\" class=\"data row5 col6\" >0.1407</td>\n",
       "            </tr>\n",
       "            <tr>\n",
       "                        <th id=\"T_0cc97fa5_b8d7_11eb_93c5_48f17ff7bb32level0_row6\" class=\"row_heading level0 row6\" >6</th>\n",
       "                        <td id=\"T_0cc97fa5_b8d7_11eb_93c5_48f17ff7bb32row6_col0\" class=\"data row6 col0\" >0.4266</td>\n",
       "                        <td id=\"T_0cc97fa5_b8d7_11eb_93c5_48f17ff7bb32row6_col1\" class=\"data row6 col1\" >0.6830</td>\n",
       "                        <td id=\"T_0cc97fa5_b8d7_11eb_93c5_48f17ff7bb32row6_col2\" class=\"data row6 col2\" >0.8922</td>\n",
       "                        <td id=\"T_0cc97fa5_b8d7_11eb_93c5_48f17ff7bb32row6_col3\" class=\"data row6 col3\" >0.2380</td>\n",
       "                        <td id=\"T_0cc97fa5_b8d7_11eb_93c5_48f17ff7bb32row6_col4\" class=\"data row6 col4\" >0.3757</td>\n",
       "                        <td id=\"T_0cc97fa5_b8d7_11eb_93c5_48f17ff7bb32row6_col5\" class=\"data row6 col5\" >0.1013</td>\n",
       "                        <td id=\"T_0cc97fa5_b8d7_11eb_93c5_48f17ff7bb32row6_col6\" class=\"data row6 col6\" >0.1832</td>\n",
       "            </tr>\n",
       "            <tr>\n",
       "                        <th id=\"T_0cc97fa5_b8d7_11eb_93c5_48f17ff7bb32level0_row7\" class=\"row_heading level0 row7\" >7</th>\n",
       "                        <td id=\"T_0cc97fa5_b8d7_11eb_93c5_48f17ff7bb32row7_col0\" class=\"data row7 col0\" >0.3611</td>\n",
       "                        <td id=\"T_0cc97fa5_b8d7_11eb_93c5_48f17ff7bb32row7_col1\" class=\"data row7 col1\" >0.6718</td>\n",
       "                        <td id=\"T_0cc97fa5_b8d7_11eb_93c5_48f17ff7bb32row7_col2\" class=\"data row7 col2\" >0.9335</td>\n",
       "                        <td id=\"T_0cc97fa5_b8d7_11eb_93c5_48f17ff7bb32row7_col3\" class=\"data row7 col3\" >0.2239</td>\n",
       "                        <td id=\"T_0cc97fa5_b8d7_11eb_93c5_48f17ff7bb32row7_col4\" class=\"data row7 col4\" >0.3611</td>\n",
       "                        <td id=\"T_0cc97fa5_b8d7_11eb_93c5_48f17ff7bb32row7_col5\" class=\"data row7 col5\" >0.0714</td>\n",
       "                        <td id=\"T_0cc97fa5_b8d7_11eb_93c5_48f17ff7bb32row7_col6\" class=\"data row7 col6\" >0.1574</td>\n",
       "            </tr>\n",
       "            <tr>\n",
       "                        <th id=\"T_0cc97fa5_b8d7_11eb_93c5_48f17ff7bb32level0_row8\" class=\"row_heading level0 row8\" >8</th>\n",
       "                        <td id=\"T_0cc97fa5_b8d7_11eb_93c5_48f17ff7bb32row8_col0\" class=\"data row8 col0\" >0.3520</td>\n",
       "                        <td id=\"T_0cc97fa5_b8d7_11eb_93c5_48f17ff7bb32row8_col1\" class=\"data row8 col1\" >0.6656</td>\n",
       "                        <td id=\"T_0cc97fa5_b8d7_11eb_93c5_48f17ff7bb32row8_col2\" class=\"data row8 col2\" >0.9040</td>\n",
       "                        <td id=\"T_0cc97fa5_b8d7_11eb_93c5_48f17ff7bb32row8_col3\" class=\"data row8 col3\" >0.2174</td>\n",
       "                        <td id=\"T_0cc97fa5_b8d7_11eb_93c5_48f17ff7bb32row8_col4\" class=\"data row8 col4\" >0.3505</td>\n",
       "                        <td id=\"T_0cc97fa5_b8d7_11eb_93c5_48f17ff7bb32row8_col5\" class=\"data row8 col5\" >0.0562</td>\n",
       "                        <td id=\"T_0cc97fa5_b8d7_11eb_93c5_48f17ff7bb32row8_col6\" class=\"data row8 col6\" >0.1231</td>\n",
       "            </tr>\n",
       "            <tr>\n",
       "                        <th id=\"T_0cc97fa5_b8d7_11eb_93c5_48f17ff7bb32level0_row9\" class=\"row_heading level0 row9\" >9</th>\n",
       "                        <td id=\"T_0cc97fa5_b8d7_11eb_93c5_48f17ff7bb32row9_col0\" class=\"data row9 col0\" >0.4324</td>\n",
       "                        <td id=\"T_0cc97fa5_b8d7_11eb_93c5_48f17ff7bb32row9_col1\" class=\"data row9 col1\" >0.6891</td>\n",
       "                        <td id=\"T_0cc97fa5_b8d7_11eb_93c5_48f17ff7bb32row9_col2\" class=\"data row9 col2\" >0.8905</td>\n",
       "                        <td id=\"T_0cc97fa5_b8d7_11eb_93c5_48f17ff7bb32row9_col3\" class=\"data row9 col3\" >0.2395</td>\n",
       "                        <td id=\"T_0cc97fa5_b8d7_11eb_93c5_48f17ff7bb32row9_col4\" class=\"data row9 col4\" >0.3774</td>\n",
       "                        <td id=\"T_0cc97fa5_b8d7_11eb_93c5_48f17ff7bb32row9_col5\" class=\"data row9 col5\" >0.1048</td>\n",
       "                        <td id=\"T_0cc97fa5_b8d7_11eb_93c5_48f17ff7bb32row9_col6\" class=\"data row9 col6\" >0.1872</td>\n",
       "            </tr>\n",
       "            <tr>\n",
       "                        <th id=\"T_0cc97fa5_b8d7_11eb_93c5_48f17ff7bb32level0_row10\" class=\"row_heading level0 row10\" >Mean</th>\n",
       "                        <td id=\"T_0cc97fa5_b8d7_11eb_93c5_48f17ff7bb32row10_col0\" class=\"data row10 col0\" >0.3645</td>\n",
       "                        <td id=\"T_0cc97fa5_b8d7_11eb_93c5_48f17ff7bb32row10_col1\" class=\"data row10 col1\" >0.6800</td>\n",
       "                        <td id=\"T_0cc97fa5_b8d7_11eb_93c5_48f17ff7bb32row10_col2\" class=\"data row10 col2\" >0.9231</td>\n",
       "                        <td id=\"T_0cc97fa5_b8d7_11eb_93c5_48f17ff7bb32row10_col3\" class=\"data row10 col3\" >0.2237</td>\n",
       "                        <td id=\"T_0cc97fa5_b8d7_11eb_93c5_48f17ff7bb32row10_col4\" class=\"data row10 col4\" >0.3599</td>\n",
       "                        <td id=\"T_0cc97fa5_b8d7_11eb_93c5_48f17ff7bb32row10_col5\" class=\"data row10 col5\" >0.0708</td>\n",
       "                        <td id=\"T_0cc97fa5_b8d7_11eb_93c5_48f17ff7bb32row10_col6\" class=\"data row10 col6\" >0.1515</td>\n",
       "            </tr>\n",
       "            <tr>\n",
       "                        <th id=\"T_0cc97fa5_b8d7_11eb_93c5_48f17ff7bb32level0_row11\" class=\"row_heading level0 row11\" >SD</th>\n",
       "                        <td id=\"T_0cc97fa5_b8d7_11eb_93c5_48f17ff7bb32row11_col0\" class=\"data row11 col0\" >0.0348</td>\n",
       "                        <td id=\"T_0cc97fa5_b8d7_11eb_93c5_48f17ff7bb32row11_col1\" class=\"data row11 col1\" >0.0076</td>\n",
       "                        <td id=\"T_0cc97fa5_b8d7_11eb_93c5_48f17ff7bb32row11_col2\" class=\"data row11 col2\" >0.0199</td>\n",
       "                        <td id=\"T_0cc97fa5_b8d7_11eb_93c5_48f17ff7bb32row11_col3\" class=\"data row11 col3\" >0.0081</td>\n",
       "                        <td id=\"T_0cc97fa5_b8d7_11eb_93c5_48f17ff7bb32row11_col4\" class=\"data row11 col4\" >0.0093</td>\n",
       "                        <td id=\"T_0cc97fa5_b8d7_11eb_93c5_48f17ff7bb32row11_col5\" class=\"data row11 col5\" >0.0175</td>\n",
       "                        <td id=\"T_0cc97fa5_b8d7_11eb_93c5_48f17ff7bb32row11_col6\" class=\"data row11 col6\" >0.0205</td>\n",
       "            </tr>\n",
       "    </tbody></table>"
      ],
      "text/plain": [
       "<pandas.io.formats.style.Styler at 0x179241e25b0>"
      ]
     },
     "metadata": {},
     "output_type": "display_data"
    }
   ],
   "source": [
    "from pycaret.classification import *\n",
    "mdl = create_model('nb', fold = 10)"
   ]
  },
  {
   "cell_type": "code",
   "execution_count": 34,
   "metadata": {},
   "outputs": [
    {
     "data": {
      "text/html": [
       "<style  type=\"text/css\" >\n",
       "#T_121e7c9e_b8d7_11eb_8de4_48f17ff7bb32row10_col0,#T_121e7c9e_b8d7_11eb_8de4_48f17ff7bb32row10_col1,#T_121e7c9e_b8d7_11eb_8de4_48f17ff7bb32row10_col2,#T_121e7c9e_b8d7_11eb_8de4_48f17ff7bb32row10_col3,#T_121e7c9e_b8d7_11eb_8de4_48f17ff7bb32row10_col4,#T_121e7c9e_b8d7_11eb_8de4_48f17ff7bb32row10_col5,#T_121e7c9e_b8d7_11eb_8de4_48f17ff7bb32row10_col6{\n",
       "            background:  yellow;\n",
       "        }</style><table id=\"T_121e7c9e_b8d7_11eb_8de4_48f17ff7bb32\" ><thead>    <tr>        <th class=\"blank level0\" ></th>        <th class=\"col_heading level0 col0\" >Accuracy</th>        <th class=\"col_heading level0 col1\" >AUC</th>        <th class=\"col_heading level0 col2\" >Recall</th>        <th class=\"col_heading level0 col3\" >Prec.</th>        <th class=\"col_heading level0 col4\" >F1</th>        <th class=\"col_heading level0 col5\" >Kappa</th>        <th class=\"col_heading level0 col6\" >MCC</th>    </tr></thead><tbody>\n",
       "                <tr>\n",
       "                        <th id=\"T_121e7c9e_b8d7_11eb_8de4_48f17ff7bb32level0_row0\" class=\"row_heading level0 row0\" >0</th>\n",
       "                        <td id=\"T_121e7c9e_b8d7_11eb_8de4_48f17ff7bb32row0_col0\" class=\"data row0 col0\" >0.5591</td>\n",
       "                        <td id=\"T_121e7c9e_b8d7_11eb_8de4_48f17ff7bb32row0_col1\" class=\"data row0 col1\" >0.6789</td>\n",
       "                        <td id=\"T_121e7c9e_b8d7_11eb_8de4_48f17ff7bb32row0_col2\" class=\"data row0 col2\" >0.7663</td>\n",
       "                        <td id=\"T_121e7c9e_b8d7_11eb_8de4_48f17ff7bb32row0_col3\" class=\"data row0 col3\" >0.2722</td>\n",
       "                        <td id=\"T_121e7c9e_b8d7_11eb_8de4_48f17ff7bb32row0_col4\" class=\"data row0 col4\" >0.4017</td>\n",
       "                        <td id=\"T_121e7c9e_b8d7_11eb_8de4_48f17ff7bb32row0_col5\" class=\"data row0 col5\" >0.1632</td>\n",
       "                        <td id=\"T_121e7c9e_b8d7_11eb_8de4_48f17ff7bb32row0_col6\" class=\"data row0 col6\" >0.2186</td>\n",
       "            </tr>\n",
       "            <tr>\n",
       "                        <th id=\"T_121e7c9e_b8d7_11eb_8de4_48f17ff7bb32level0_row1\" class=\"row_heading level0 row1\" >1</th>\n",
       "                        <td id=\"T_121e7c9e_b8d7_11eb_8de4_48f17ff7bb32row1_col0\" class=\"data row1 col0\" >0.5997</td>\n",
       "                        <td id=\"T_121e7c9e_b8d7_11eb_8de4_48f17ff7bb32row1_col1\" class=\"data row1 col1\" >0.6797</td>\n",
       "                        <td id=\"T_121e7c9e_b8d7_11eb_8de4_48f17ff7bb32row1_col2\" class=\"data row1 col2\" >0.6982</td>\n",
       "                        <td id=\"T_121e7c9e_b8d7_11eb_8de4_48f17ff7bb32row1_col3\" class=\"data row1 col3\" >0.2828</td>\n",
       "                        <td id=\"T_121e7c9e_b8d7_11eb_8de4_48f17ff7bb32row1_col4\" class=\"data row1 col4\" >0.4026</td>\n",
       "                        <td id=\"T_121e7c9e_b8d7_11eb_8de4_48f17ff7bb32row1_col5\" class=\"data row1 col5\" >0.1760</td>\n",
       "                        <td id=\"T_121e7c9e_b8d7_11eb_8de4_48f17ff7bb32row1_col6\" class=\"data row1 col6\" >0.2168</td>\n",
       "            </tr>\n",
       "            <tr>\n",
       "                        <th id=\"T_121e7c9e_b8d7_11eb_8de4_48f17ff7bb32level0_row2\" class=\"row_heading level0 row2\" >2</th>\n",
       "                        <td id=\"T_121e7c9e_b8d7_11eb_8de4_48f17ff7bb32row2_col0\" class=\"data row2 col0\" >0.5126</td>\n",
       "                        <td id=\"T_121e7c9e_b8d7_11eb_8de4_48f17ff7bb32row2_col1\" class=\"data row2 col1\" >0.6921</td>\n",
       "                        <td id=\"T_121e7c9e_b8d7_11eb_8de4_48f17ff7bb32row2_col2\" class=\"data row2 col2\" >0.8328</td>\n",
       "                        <td id=\"T_121e7c9e_b8d7_11eb_8de4_48f17ff7bb32row2_col3\" class=\"data row2 col3\" >0.2611</td>\n",
       "                        <td id=\"T_121e7c9e_b8d7_11eb_8de4_48f17ff7bb32row2_col4\" class=\"data row2 col4\" >0.3976</td>\n",
       "                        <td id=\"T_121e7c9e_b8d7_11eb_8de4_48f17ff7bb32row2_col5\" class=\"data row2 col5\" >0.1466</td>\n",
       "                        <td id=\"T_121e7c9e_b8d7_11eb_8de4_48f17ff7bb32row2_col6\" class=\"data row2 col6\" >0.2181</td>\n",
       "            </tr>\n",
       "            <tr>\n",
       "                        <th id=\"T_121e7c9e_b8d7_11eb_8de4_48f17ff7bb32level0_row3\" class=\"row_heading level0 row3\" >3</th>\n",
       "                        <td id=\"T_121e7c9e_b8d7_11eb_8de4_48f17ff7bb32row3_col0\" class=\"data row3 col0\" >0.5303</td>\n",
       "                        <td id=\"T_121e7c9e_b8d7_11eb_8de4_48f17ff7bb32row3_col1\" class=\"data row3 col1\" >0.6874</td>\n",
       "                        <td id=\"T_121e7c9e_b8d7_11eb_8de4_48f17ff7bb32row3_col2\" class=\"data row3 col2\" >0.7751</td>\n",
       "                        <td id=\"T_121e7c9e_b8d7_11eb_8de4_48f17ff7bb32row3_col3\" class=\"data row3 col3\" >0.2599</td>\n",
       "                        <td id=\"T_121e7c9e_b8d7_11eb_8de4_48f17ff7bb32row3_col4\" class=\"data row3 col4\" >0.3893</td>\n",
       "                        <td id=\"T_121e7c9e_b8d7_11eb_8de4_48f17ff7bb32row3_col5\" class=\"data row3 col5\" >0.1407</td>\n",
       "                        <td id=\"T_121e7c9e_b8d7_11eb_8de4_48f17ff7bb32row3_col6\" class=\"data row3 col6\" >0.1972</td>\n",
       "            </tr>\n",
       "            <tr>\n",
       "                        <th id=\"T_121e7c9e_b8d7_11eb_8de4_48f17ff7bb32level0_row4\" class=\"row_heading level0 row4\" >4</th>\n",
       "                        <td id=\"T_121e7c9e_b8d7_11eb_8de4_48f17ff7bb32row4_col0\" class=\"data row4 col0\" >0.5557</td>\n",
       "                        <td id=\"T_121e7c9e_b8d7_11eb_8de4_48f17ff7bb32row4_col1\" class=\"data row4 col1\" >0.6769</td>\n",
       "                        <td id=\"T_121e7c9e_b8d7_11eb_8de4_48f17ff7bb32row4_col2\" class=\"data row4 col2\" >0.7293</td>\n",
       "                        <td id=\"T_121e7c9e_b8d7_11eb_8de4_48f17ff7bb32row4_col3\" class=\"data row4 col3\" >0.2643</td>\n",
       "                        <td id=\"T_121e7c9e_b8d7_11eb_8de4_48f17ff7bb32row4_col4\" class=\"data row4 col4\" >0.3880</td>\n",
       "                        <td id=\"T_121e7c9e_b8d7_11eb_8de4_48f17ff7bb32row4_col5\" class=\"data row4 col5\" >0.1459</td>\n",
       "                        <td id=\"T_121e7c9e_b8d7_11eb_8de4_48f17ff7bb32row4_col6\" class=\"data row4 col6\" >0.1926</td>\n",
       "            </tr>\n",
       "            <tr>\n",
       "                        <th id=\"T_121e7c9e_b8d7_11eb_8de4_48f17ff7bb32level0_row5\" class=\"row_heading level0 row5\" >5</th>\n",
       "                        <td id=\"T_121e7c9e_b8d7_11eb_8de4_48f17ff7bb32row5_col0\" class=\"data row5 col0\" >0.5609</td>\n",
       "                        <td id=\"T_121e7c9e_b8d7_11eb_8de4_48f17ff7bb32row5_col1\" class=\"data row5 col1\" >0.6770</td>\n",
       "                        <td id=\"T_121e7c9e_b8d7_11eb_8de4_48f17ff7bb32row5_col2\" class=\"data row5 col2\" >0.7326</td>\n",
       "                        <td id=\"T_121e7c9e_b8d7_11eb_8de4_48f17ff7bb32row5_col3\" class=\"data row5 col3\" >0.2678</td>\n",
       "                        <td id=\"T_121e7c9e_b8d7_11eb_8de4_48f17ff7bb32row5_col4\" class=\"data row5 col4\" >0.3922</td>\n",
       "                        <td id=\"T_121e7c9e_b8d7_11eb_8de4_48f17ff7bb32row5_col5\" class=\"data row5 col5\" >0.1520</td>\n",
       "                        <td id=\"T_121e7c9e_b8d7_11eb_8de4_48f17ff7bb32row5_col6\" class=\"data row5 col6\" >0.1997</td>\n",
       "            </tr>\n",
       "            <tr>\n",
       "                        <th id=\"T_121e7c9e_b8d7_11eb_8de4_48f17ff7bb32level0_row6\" class=\"row_heading level0 row6\" >6</th>\n",
       "                        <td id=\"T_121e7c9e_b8d7_11eb_8de4_48f17ff7bb32row6_col0\" class=\"data row6 col0\" >0.5766</td>\n",
       "                        <td id=\"T_121e7c9e_b8d7_11eb_8de4_48f17ff7bb32row6_col1\" class=\"data row6 col1\" >0.6830</td>\n",
       "                        <td id=\"T_121e7c9e_b8d7_11eb_8de4_48f17ff7bb32row6_col2\" class=\"data row6 col2\" >0.7164</td>\n",
       "                        <td id=\"T_121e7c9e_b8d7_11eb_8de4_48f17ff7bb32row6_col3\" class=\"data row6 col3\" >0.2732</td>\n",
       "                        <td id=\"T_121e7c9e_b8d7_11eb_8de4_48f17ff7bb32row6_col4\" class=\"data row6 col4\" >0.3956</td>\n",
       "                        <td id=\"T_121e7c9e_b8d7_11eb_8de4_48f17ff7bb32row6_col5\" class=\"data row6 col5\" >0.1605</td>\n",
       "                        <td id=\"T_121e7c9e_b8d7_11eb_8de4_48f17ff7bb32row6_col6\" class=\"data row6 col6\" >0.2050</td>\n",
       "            </tr>\n",
       "            <tr>\n",
       "                        <th id=\"T_121e7c9e_b8d7_11eb_8de4_48f17ff7bb32level0_row7\" class=\"row_heading level0 row7\" >7</th>\n",
       "                        <td id=\"T_121e7c9e_b8d7_11eb_8de4_48f17ff7bb32row7_col0\" class=\"data row7 col0\" >0.6674</td>\n",
       "                        <td id=\"T_121e7c9e_b8d7_11eb_8de4_48f17ff7bb32row7_col1\" class=\"data row7 col1\" >0.6718</td>\n",
       "                        <td id=\"T_121e7c9e_b8d7_11eb_8de4_48f17ff7bb32row7_col2\" class=\"data row7 col2\" >0.5480</td>\n",
       "                        <td id=\"T_121e7c9e_b8d7_11eb_8de4_48f17ff7bb32row7_col3\" class=\"data row7 col3\" >0.3019</td>\n",
       "                        <td id=\"T_121e7c9e_b8d7_11eb_8de4_48f17ff7bb32row7_col4\" class=\"data row7 col4\" >0.3893</td>\n",
       "                        <td id=\"T_121e7c9e_b8d7_11eb_8de4_48f17ff7bb32row7_col5\" class=\"data row7 col5\" >0.1863</td>\n",
       "                        <td id=\"T_121e7c9e_b8d7_11eb_8de4_48f17ff7bb32row7_col6\" class=\"data row7 col6\" >0.2020</td>\n",
       "            </tr>\n",
       "            <tr>\n",
       "                        <th id=\"T_121e7c9e_b8d7_11eb_8de4_48f17ff7bb32level0_row8\" class=\"row_heading level0 row8\" >8</th>\n",
       "                        <td id=\"T_121e7c9e_b8d7_11eb_8de4_48f17ff7bb32row8_col0\" class=\"data row8 col0\" >0.5683</td>\n",
       "                        <td id=\"T_121e7c9e_b8d7_11eb_8de4_48f17ff7bb32row8_col1\" class=\"data row8 col1\" >0.6658</td>\n",
       "                        <td id=\"T_121e7c9e_b8d7_11eb_8de4_48f17ff7bb32row8_col2\" class=\"data row8 col2\" >0.7149</td>\n",
       "                        <td id=\"T_121e7c9e_b8d7_11eb_8de4_48f17ff7bb32row8_col3\" class=\"data row8 col3\" >0.2686</td>\n",
       "                        <td id=\"T_121e7c9e_b8d7_11eb_8de4_48f17ff7bb32row8_col4\" class=\"data row8 col4\" >0.3905</td>\n",
       "                        <td id=\"T_121e7c9e_b8d7_11eb_8de4_48f17ff7bb32row8_col5\" class=\"data row8 col5\" >0.1520</td>\n",
       "                        <td id=\"T_121e7c9e_b8d7_11eb_8de4_48f17ff7bb32row8_col6\" class=\"data row8 col6\" >0.1960</td>\n",
       "            </tr>\n",
       "            <tr>\n",
       "                        <th id=\"T_121e7c9e_b8d7_11eb_8de4_48f17ff7bb32level0_row9\" class=\"row_heading level0 row9\" >9</th>\n",
       "                        <td id=\"T_121e7c9e_b8d7_11eb_8de4_48f17ff7bb32row9_col0\" class=\"data row9 col0\" >0.5470</td>\n",
       "                        <td id=\"T_121e7c9e_b8d7_11eb_8de4_48f17ff7bb32row9_col1\" class=\"data row9 col1\" >0.6893</td>\n",
       "                        <td id=\"T_121e7c9e_b8d7_11eb_8de4_48f17ff7bb32row9_col2\" class=\"data row9 col2\" >0.7737</td>\n",
       "                        <td id=\"T_121e7c9e_b8d7_11eb_8de4_48f17ff7bb32row9_col3\" class=\"data row9 col3\" >0.2675</td>\n",
       "                        <td id=\"T_121e7c9e_b8d7_11eb_8de4_48f17ff7bb32row9_col4\" class=\"data row9 col4\" >0.3976</td>\n",
       "                        <td id=\"T_121e7c9e_b8d7_11eb_8de4_48f17ff7bb32row9_col5\" class=\"data row9 col5\" >0.1549</td>\n",
       "                        <td id=\"T_121e7c9e_b8d7_11eb_8de4_48f17ff7bb32row9_col6\" class=\"data row9 col6\" >0.2118</td>\n",
       "            </tr>\n",
       "            <tr>\n",
       "                        <th id=\"T_121e7c9e_b8d7_11eb_8de4_48f17ff7bb32level0_row10\" class=\"row_heading level0 row10\" >Mean</th>\n",
       "                        <td id=\"T_121e7c9e_b8d7_11eb_8de4_48f17ff7bb32row10_col0\" class=\"data row10 col0\" >0.5678</td>\n",
       "                        <td id=\"T_121e7c9e_b8d7_11eb_8de4_48f17ff7bb32row10_col1\" class=\"data row10 col1\" >0.6802</td>\n",
       "                        <td id=\"T_121e7c9e_b8d7_11eb_8de4_48f17ff7bb32row10_col2\" class=\"data row10 col2\" >0.7287</td>\n",
       "                        <td id=\"T_121e7c9e_b8d7_11eb_8de4_48f17ff7bb32row10_col3\" class=\"data row10 col3\" >0.2719</td>\n",
       "                        <td id=\"T_121e7c9e_b8d7_11eb_8de4_48f17ff7bb32row10_col4\" class=\"data row10 col4\" >0.3944</td>\n",
       "                        <td id=\"T_121e7c9e_b8d7_11eb_8de4_48f17ff7bb32row10_col5\" class=\"data row10 col5\" >0.1578</td>\n",
       "                        <td id=\"T_121e7c9e_b8d7_11eb_8de4_48f17ff7bb32row10_col6\" class=\"data row10 col6\" >0.2058</td>\n",
       "            </tr>\n",
       "            <tr>\n",
       "                        <th id=\"T_121e7c9e_b8d7_11eb_8de4_48f17ff7bb32level0_row11\" class=\"row_heading level0 row11\" >SD</th>\n",
       "                        <td id=\"T_121e7c9e_b8d7_11eb_8de4_48f17ff7bb32row11_col0\" class=\"data row11 col0\" >0.0402</td>\n",
       "                        <td id=\"T_121e7c9e_b8d7_11eb_8de4_48f17ff7bb32row11_col1\" class=\"data row11 col1\" >0.0077</td>\n",
       "                        <td id=\"T_121e7c9e_b8d7_11eb_8de4_48f17ff7bb32row11_col2\" class=\"data row11 col2\" >0.0710</td>\n",
       "                        <td id=\"T_121e7c9e_b8d7_11eb_8de4_48f17ff7bb32row11_col3\" class=\"data row11 col3\" >0.0118</td>\n",
       "                        <td id=\"T_121e7c9e_b8d7_11eb_8de4_48f17ff7bb32row11_col4\" class=\"data row11 col4\" >0.0050</td>\n",
       "                        <td id=\"T_121e7c9e_b8d7_11eb_8de4_48f17ff7bb32row11_col5\" class=\"data row11 col5\" >0.0135</td>\n",
       "                        <td id=\"T_121e7c9e_b8d7_11eb_8de4_48f17ff7bb32row11_col6\" class=\"data row11 col6\" >0.0093</td>\n",
       "            </tr>\n",
       "    </tbody></table>"
      ],
      "text/plain": [
       "<pandas.io.formats.style.Styler at 0x1791d41b1f0>"
      ]
     },
     "metadata": {},
     "output_type": "display_data"
    }
   ],
   "source": [
    "Tuned_rf = tune_model(mdl, optimize=\"F1\")"
   ]
  },
  {
   "cell_type": "code",
   "execution_count": 22,
   "metadata": {},
   "outputs": [],
   "source": [
    "#save_model(best, model_name='best-model')"
   ]
  },
  {
   "cell_type": "code",
   "execution_count": 51,
   "metadata": {},
   "outputs": [],
   "source": [
    "#loaded_bestmodel = load_model('best-model')\n",
    "#print(loaded_bestmodel)"
   ]
  },
  {
   "cell_type": "markdown",
   "metadata": {},
   "source": [
    "## From the above analysis ie using PyCaret, it is seen that GradientBoostingClassifier and Naive Bayes is the best base model among the others. So, hyperparameters are tuned in the next steps:"
   ]
  },
  {
   "cell_type": "code",
   "execution_count": 36,
   "metadata": {},
   "outputs": [],
   "source": [
    "y=df[\"loan_status\"]\n",
    "X = df.drop([\"loan_status\"],axis =1)"
   ]
  },
  {
   "cell_type": "code",
   "execution_count": 35,
   "metadata": {},
   "outputs": [],
   "source": [
    "from sklearn.naive_bayes import GaussianNB\n",
    "from sklearn.metrics import accuracy_score"
   ]
  },
  {
   "cell_type": "code",
   "execution_count": 37,
   "metadata": {},
   "outputs": [
    {
     "data": {
      "text/plain": [
       "0    880570\n",
       "1    210071\n",
       "Name: loan_status, dtype: int64"
      ]
     },
     "execution_count": 37,
     "metadata": {},
     "output_type": "execute_result"
    }
   ],
   "source": [
    "y.value_counts()"
   ]
  },
  {
   "cell_type": "code",
   "execution_count": 64,
   "metadata": {},
   "outputs": [],
   "source": [
    "X_train, X_test, y_train, y_test = train_test_split(X, y, test_size = 0.3, random_state=42)"
   ]
  },
  {
   "cell_type": "code",
   "execution_count": 65,
   "metadata": {},
   "outputs": [
    {
     "name": "stdout",
     "output_type": "stream",
     "text": [
      "Shape of X_train: (763448, 75)\n",
      "Shape of y_train: (763448,)\n",
      "\n",
      "Shape of X_test: (327193, 75)\n",
      "Shape of y_test: (327193,)\n"
     ]
    }
   ],
   "source": [
    "print(\"Shape of X_train:\", np.shape(X_train))\n",
    "print(\"Shape of y_train:\", np.shape(y_train))\n",
    "print()\n",
    "print(\"Shape of X_test:\", np.shape(X_test))\n",
    "print(\"Shape of y_test:\", np.shape(y_test))"
   ]
  },
  {
   "cell_type": "code",
   "execution_count": 40,
   "metadata": {},
   "outputs": [
    {
     "data": {
      "text/plain": [
       "GaussianNB(priors=None, var_smoothing=1e-09)"
      ]
     },
     "execution_count": 40,
     "metadata": {},
     "output_type": "execute_result"
    }
   ],
   "source": [
    "model = GaussianNB()\n",
    "#model = SVC()\n",
    "model.fit(X_train, y_train)"
   ]
  },
  {
   "cell_type": "code",
   "execution_count": 42,
   "metadata": {},
   "outputs": [],
   "source": [
    "y_pred = model.predict(X_test)"
   ]
  },
  {
   "cell_type": "code",
   "execution_count": 43,
   "metadata": {},
   "outputs": [
    {
     "name": "stdout",
     "output_type": "stream",
     "text": [
      "Accuracy: 63.26%\n"
     ]
    }
   ],
   "source": [
    "accuracy = accuracy_score(y_test, y_pred)\n",
    "print(\"Accuracy: %.2f%%\" % (accuracy * 100.0))"
   ]
  },
  {
   "cell_type": "code",
   "execution_count": 44,
   "metadata": {},
   "outputs": [
    {
     "name": "stdout",
     "output_type": "stream",
     "text": [
      "              precision    recall  f1-score   support\n",
      "\n",
      "           0       0.88      0.63      0.73    176376\n",
      "           1       0.29      0.65      0.41     41753\n",
      "\n",
      "    accuracy                           0.63    218129\n",
      "   macro avg       0.59      0.64      0.57    218129\n",
      "weighted avg       0.77      0.63      0.67    218129\n",
      "\n"
     ]
    }
   ],
   "source": [
    "from sklearn.metrics import classification_report\n",
    "print(classification_report(y_test, y_pred))"
   ]
  },
  {
   "cell_type": "markdown",
   "metadata": {},
   "source": [
    "### Let's try another model \"Gradient Boosting Classifier\" using default parameter values"
   ]
  },
  {
   "cell_type": "code",
   "execution_count": 51,
   "metadata": {},
   "outputs": [
    {
     "name": "stdout",
     "output_type": "stream",
     "text": [
      "GradientBoostingClassifier: Accuracy=0.812\n",
      "GradientBoostingClassifier: f1-score=0.747\n"
     ]
    }
   ],
   "source": [
    "## BASE MODEL\n",
    "from sklearn.metrics import f1_score\n",
    "#from sklearn.ensemble import RandomForestClassifier\n",
    "from sklearn.ensemble import GradientBoostingClassifier\n",
    "from sklearn.metrics import classification_report,confusion_matrix,roc_curve,roc_auc_score\n",
    "from sklearn.metrics import accuracy_score\n",
    "\n",
    "clf = GradientBoostingClassifier()\n",
    "model_res = clf.fit(X_train, y_train)\n",
    "y_pred = model_res.predict(X_test)\n",
    "\n",
    "ac = accuracy_score(y_test, y_pred)\n",
    "f1 = f1_score(y_test, y_pred, average='weighted')\n",
    "\n",
    "print('GradientBoostingClassifier: Accuracy=%.3f' % (ac))\n",
    "print('GradientBoostingClassifier: f1-score=%.3f' % (f1))"
   ]
  },
  {
   "cell_type": "code",
   "execution_count": 52,
   "metadata": {},
   "outputs": [
    {
     "name": "stdout",
     "output_type": "stream",
     "text": [
      "              precision    recall  f1-score   support\n",
      "\n",
      "           0       0.82      0.99      0.89    176376\n",
      "           1       0.57      0.07      0.12     41753\n",
      "\n",
      "    accuracy                           0.81    218129\n",
      "   macro avg       0.69      0.53      0.51    218129\n",
      "weighted avg       0.77      0.81      0.75    218129\n",
      "\n"
     ]
    }
   ],
   "source": [
    "print(classification_report(y_test, y_pred))"
   ]
  },
  {
   "cell_type": "markdown",
   "metadata": {},
   "source": [
    "### Now let's tune hyparameter"
   ]
  },
  {
   "cell_type": "code",
   "execution_count": null,
   "metadata": {},
   "outputs": [],
   "source": [
    "# ### some of the default parameters in SKLearn Setting\n",
    "# Tree specific parameters\n",
    "# n_estimators=100 (number of trees)\n",
    "# max_depth=3\n",
    "# min_samples_split=2\n",
    "# min_samples_leaf=1\n",
    "# subsample=1.0\n",
    "\n",
    "# Other Parameters\n",
    "# learning_rate=0.1 (shrinkage)\n",
    "# subsample: 1"
   ]
  },
  {
   "cell_type": "code",
   "execution_count": 56,
   "metadata": {},
   "outputs": [],
   "source": [
    "# from sklearn.model_selection import GridSearchCV\n",
    "# p_test1 = {'learning_rate':[0.15,0.1,0.05,0.01,0.005,0.001], 'n_estimators':[100,250,500,750,1000,1250,1500], \\\n",
    "#           'max_depth':[2,3,4,5,6,7]}\n",
    "\n",
    "# tuning = GridSearchCV(estimator =GradientBoostingClassifier(min_samples_split=2, min_samples_leaf=1, subsample=1,max_features='sqrt', random_state=10), \n",
    "#             param_grid = p_test1, scoring='accuracy',n_jobs=4,iid=False, cv=5)\n",
    "# tuning.fit(X_train,y_train)\n",
    "# tuning.grid_scores_, tuning.best_params_, tuning.best_score_"
   ]
  },
  {
   "cell_type": "code",
   "execution_count": 58,
   "metadata": {},
   "outputs": [],
   "source": [
    "# from sklearn.model_selection import GridSearchCV\n",
    "# p_test1 = {'learning_rate':[0.15,0.1,0.05], 'n_estimators':[100, 500,1000,1500], \\\n",
    "#           'max_depth':[5, 10, 15]}\n",
    "\n",
    "# tuning = GridSearchCV(estimator =GradientBoostingClassifier(min_samples_split=2, min_samples_leaf=1, subsample=1,max_features='sqrt', random_state=10), \n",
    "#             param_grid = p_test1, scoring='accuracy',n_jobs=4,iid=False, cv=5)\n",
    "# tuning.fit(X_train,y_train)\n",
    "# tuning.grid_scores_, tuning.best_params_, tuning.best_score_"
   ]
  },
  {
   "cell_type": "code",
   "execution_count": 67,
   "metadata": {},
   "outputs": [
    {
     "name": "stdout",
     "output_type": "stream",
     "text": [
      "Learning rate:  0.05\n",
      "Accuracy score (training): 0.807\n",
      "Accuracy score (validation): 0.809\n",
      "F1 score (validation): 0.723\n",
      "\n",
      "Learning rate:  0.1\n",
      "Accuracy score (training): 0.807\n",
      "Accuracy score (validation): 0.809\n",
      "F1 score (validation): 0.723\n",
      "\n",
      "Learning rate:  0.25\n",
      "Accuracy score (training): 0.807\n",
      "Accuracy score (validation): 0.809\n",
      "F1 score (validation): 0.723\n",
      "\n",
      "Learning rate:  0.5\n",
      "Accuracy score (training): 0.808\n",
      "Accuracy score (validation): 0.809\n",
      "F1 score (validation): 0.731\n",
      "\n",
      "Learning rate:  0.75\n",
      "Accuracy score (training): 0.807\n",
      "Accuracy score (validation): 0.808\n",
      "F1 score (validation): 0.739\n",
      "\n",
      "Learning rate:  1\n",
      "Accuracy score (training): 0.804\n",
      "Accuracy score (validation): 0.805\n",
      "F1 score (validation): 0.745\n",
      "\n",
      "Learning rate:  2\n",
      "Accuracy score (training): 0.793\n",
      "Accuracy score (validation): 0.794\n",
      "F1 score (validation): 0.752\n",
      "\n"
     ]
    }
   ],
   "source": [
    "learning_rates = [0.05, 0.1, 0.25, 0.5, 0.75, 1, 2]\n",
    "for learning_rate in learning_rates:\n",
    "    gb = GradientBoostingClassifier(n_estimators=20, learning_rate = learning_rate, max_features=2, max_depth = 2, random_state = 0)\n",
    "    gb.fit(X_train, y_train)\n",
    "    y_pred = gb.predict(X_test)\n",
    "    print(\"Learning rate: \", learning_rate)\n",
    "    print(\"Accuracy score (training): {0:.3f}\".format(gb.score(X_train, y_train)))\n",
    "    print(\"Accuracy score (validation): {0:.3f}\".format(gb.score(X_test, y_test)))\n",
    "    print(\"F1 score (validation): {0:.3f}\".format(f1_score(y_test, y_pred, average='weighted')))\n",
    "    #f1 = f1_score(y_test, y_pred, average='weighted')\n",
    "    print()"
   ]
  },
  {
   "cell_type": "code",
   "execution_count": 69,
   "metadata": {},
   "outputs": [
    {
     "name": "stdout",
     "output_type": "stream",
     "text": [
      "Max depth:  2\n",
      "Accuracy score (training): 0.804\n",
      "Accuracy score (validation): 0.805\n",
      "F1 score (validation): 0.745\n",
      "\n",
      "Max depth:  4\n",
      "Accuracy score (training): 0.806\n",
      "Accuracy score (validation): 0.806\n",
      "F1 score (validation): 0.753\n",
      "\n",
      "Max depth:  6\n",
      "Accuracy score (training): 0.807\n",
      "Accuracy score (validation): 0.805\n",
      "F1 score (validation): 0.754\n",
      "\n",
      "Max depth:  8\n",
      "Accuracy score (training): 0.809\n",
      "Accuracy score (validation): 0.804\n",
      "F1 score (validation): 0.752\n",
      "\n",
      "Max depth:  10\n",
      "Accuracy score (training): 0.815\n",
      "Accuracy score (validation): 0.800\n",
      "F1 score (validation): 0.756\n",
      "\n"
     ]
    }
   ],
   "source": [
    "max_depths = [2,4,6,8,10]\n",
    "for max_depth in max_depths:\n",
    "    gb = GradientBoostingClassifier(n_estimators=20, learning_rate = 1, max_features=2, max_depth = max_depth, random_state = 0)\n",
    "    gb.fit(X_train, y_train)\n",
    "    y_pred = gb.predict(X_test)\n",
    "    print(\"Max depth: \", max_depth)\n",
    "    print(\"Accuracy score (training): {0:.3f}\".format(gb.score(X_train, y_train)))\n",
    "    print(\"Accuracy score (validation): {0:.3f}\".format(gb.score(X_test, y_test)))\n",
    "    print(\"F1 score (validation): {0:.3f}\".format(f1_score(y_test, y_pred, average='weighted')))    \n",
    "    print()"
   ]
  },
  {
   "cell_type": "code",
   "execution_count": 70,
   "metadata": {},
   "outputs": [
    {
     "name": "stdout",
     "output_type": "stream",
     "text": [
      "n_estimator:  20\n",
      "Accuracy score (training): 0.807\n",
      "Accuracy score (validation): 0.805\n",
      "F1 score (validation): 0.754\n",
      "\n",
      "n_estimator:  30\n",
      "Accuracy score (training): 0.808\n",
      "Accuracy score (validation): 0.805\n",
      "F1 score (validation): 0.756\n",
      "\n",
      "n_estimator:  50\n",
      "Accuracy score (training): 0.810\n",
      "Accuracy score (validation): 0.805\n",
      "F1 score (validation): 0.757\n",
      "\n",
      "n_estimator:  100\n",
      "Accuracy score (training): 0.813\n",
      "Accuracy score (validation): 0.804\n",
      "F1 score (validation): 0.757\n",
      "\n"
     ]
    }
   ],
   "source": [
    "n_estimators = [20, 30,50,100]\n",
    "\n",
    "for n_estimator in n_estimators:\n",
    "    gb = GradientBoostingClassifier(n_estimators=n_estimator, learning_rate = 1, max_features=2, max_depth = 6, random_state = 0)\n",
    "    gb.fit(X_train, y_train)\n",
    "    y_pred = gb.predict(X_test)\n",
    "    print(\"n_estimator: \", n_estimator)\n",
    "    print(\"Accuracy score (training): {0:.3f}\".format(gb.score(X_train, y_train)))\n",
    "    print(\"Accuracy score (validation): {0:.3f}\".format(gb.score(X_test, y_test)))\n",
    "    print(\"F1 score (validation): {0:.3f}\".format(f1_score(y_test, y_pred, average='weighted')))    \n",
    "    print()\n",
    "\n"
   ]
  },
  {
   "cell_type": "markdown",
   "metadata": {},
   "source": [
    "### Now train the model using above hyperparameter \n",
    "#### Use learning rate = 1, max_depth=6, and n_estimator=50"
   ]
  },
  {
   "cell_type": "code",
   "execution_count": 75,
   "metadata": {},
   "outputs": [
    {
     "name": "stdout",
     "output_type": "stream",
     "text": [
      "Accuracy score (training): 0.810\n",
      "Accuracy score (validation): 0.805\n",
      "F1 score (validation): 0.757\n"
     ]
    }
   ],
   "source": [
    "gb = GradientBoostingClassifier(n_estimators=50, learning_rate = 1, max_features=2, max_depth = 6, random_state = 0)\n",
    "gb.fit(X_train, y_train)\n",
    "y_pred = gb.predict(X_test)\n",
    "print(\"Accuracy score (training): {0:.3f}\".format(gb.score(X_train, y_train)))\n",
    "print(\"Accuracy score (validation): {0:.3f}\".format(gb.score(X_test, y_test)))\n",
    "print(\"F1 score (validation): {0:.3f}\".format(f1_score(y_test, y_pred, average='weighted')))    "
   ]
  },
  {
   "cell_type": "code",
   "execution_count": null,
   "metadata": {},
   "outputs": [],
   "source": [
    "# from sklearn.model_selection import GridSearchCV\n",
    "# param_grid = {\"C\":[0.001, 0.1, 1, 10, 100]}\n",
    "# cl = LogisticRegression()\n",
    "# cl_cv = GridSearchCV(cl, param_grid, cv=5)\n",
    "# cl_cv.fit(Xlr, ylr)\n",
    "# print(\"Best Score:\" + str(cl_cv.best_score_))\n",
    "# print(\"Best Parameters: \" + str(cl_cv.best_params_))\n",
    "# print(cl_cv.best_estimator_)"
   ]
  },
  {
   "cell_type": "markdown",
   "metadata": {},
   "source": [
    "### plot AOC"
   ]
  },
  {
   "cell_type": "code",
   "execution_count": 76,
   "metadata": {},
   "outputs": [
    {
     "name": "stdout",
     "output_type": "stream",
     "text": [
      "AUC: 0.7054994943705348\n"
     ]
    },
    {
     "data": {
      "image/png": "[encoded data removed]",
      "text/plain": [
       "<Figure size 432x288 with 1 Axes>"
      ]
     },
     "metadata": {
      "needs_background": "light"
     },
     "output_type": "display_data"
    }
   ],
   "source": [
    "# Calculated probability\n",
    "y_pred_prob = gb.predict_proba(X_test)[:, 1]\n",
    "\n",
    "# Generate ROC curve values: fpr, tpr, thresholds\n",
    "fpr, tpr, thresholds = roc_curve(y_test, y_pred_prob)\n",
    "\n",
    "# Area under the curve.\n",
    "print(\"AUC: {}\".format(roc_auc_score(y_test, y_pred_prob)))\n",
    "\n",
    "# Plot ROC curve\n",
    "plt.plot([0, 1], [0, 1], 'k--')\n",
    "plt.plot(fpr, tpr, 'r', label='Gradient Boosting')\n",
    "plt.xlabel('False Positive Rate')\n",
    "plt.ylabel('True Positive Rate')\n",
    "plt.title('ROC Curve')\n",
    "plt.legend()\n",
    "plt.show()"
   ]
  },
  {
   "cell_type": "markdown",
   "metadata": {},
   "source": [
    "### PLOT Variable importance"
   ]
  },
  {
   "cell_type": "code",
   "execution_count": 77,
   "metadata": {},
   "outputs": [
    {
     "name": "stdout",
     "output_type": "stream",
     "text": [
      "75\n"
     ]
    },
    {
     "data": {
      "image/png": "[encoded data removed]",
      "text/plain": [
       "<Figure size 720x2160 with 1 Axes>"
      ]
     },
     "metadata": {
      "needs_background": "light"
     },
     "output_type": "display_data"
    }
   ],
   "source": [
    "\n",
    "feature_importance = gb.feature_importances_\n",
    "# make importances relative to max importance\n",
    "#feature_importance = 100.0 * (feature_importance / feature_importance.max())[:30]\n",
    "sorted_idx = np.argsort(feature_importance) #[:30]\n",
    "\n",
    "pos = np.arange(sorted_idx.shape[0]) + .5\n",
    "print(pos.size)\n",
    "sorted_idx.size\n",
    "plt.figure(figsize=(10,30))\n",
    "plt.barh(pos, feature_importance[sorted_idx], align='center')\n",
    "plt.yticks(pos, X.columns[sorted_idx])\n",
    "plt.xlabel('Relative Importance')\n",
    "plt.title('Variable Importance')\n",
    "plt.show()"
   ]
  },
  {
   "cell_type": "code",
   "execution_count": null,
   "metadata": {},
   "outputs": [],
   "source": []
  }
 ],
 "metadata": {
  "kernelspec": {
   "display_name": "Python 3",
   "language": "python",
   "name": "python3"
  },
  "language_info": {
   "codemirror_mode": {
    "name": "ipython",
    "version": 3
   },
   "file_extension": ".py",
   "mimetype": "text/x-python",
   "name": "python",
   "nbconvert_exporter": "python",
   "pygments_lexer": "ipython3",
   "version": "3.8.8"
  }
 },
 "nbformat": 4,
 "nbformat_minor": 4
}
